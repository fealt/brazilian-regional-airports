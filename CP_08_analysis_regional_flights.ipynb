{
 "cells": [
  {
   "cell_type": "code",
   "execution_count": 1,
   "id": "8e959bbb-fc62-4d63-a5c1-16071988e50c",
   "metadata": {},
   "outputs": [],
   "source": [
    "# loading libraries\n",
    "\n",
    "import glob\n",
    "import os\n",
    "\n",
    "import folium\n",
    "import matplotlib.cm as cm\n",
    "import matplotlib.colors as colors\n",
    "import matplotlib.pyplot as plt\n",
    "import numpy as np\n",
    "import pandas as pd\n",
    "import plotly.express as px\n",
    "import seaborn as sns\n",
    "from pywaffle import Waffle"
   ]
  },
  {
   "cell_type": "code",
   "execution_count": 2,
   "id": "5ff06cac-9c23-4bad-b4a7-0bfe16e11f42",
   "metadata": {},
   "outputs": [],
   "source": [
    "# Display all df columns\n",
    "pd.set_option(\"display.max_columns\", None)\n",
    "\n",
    "# Set up with a higher resolution screen\n",
    "%config InlineBackend.figure_format = 'retina'"
   ]
  },
  {
   "cell_type": "markdown",
   "id": "8e99ece0-68c9-4a10-8df8-7c645512a349",
   "metadata": {},
   "source": [
    "- Clusters general info"
   ]
  },
  {
   "cell_type": "code",
   "execution_count": 3,
   "id": "641bf25c-435c-42e8-a13d-fcb94639afce",
   "metadata": {},
   "outputs": [],
   "source": [
    "df_clusters = pd.read_csv(\"./assets/csv/df_clusters.csv\", sep=\",\", index_col=0)"
   ]
  },
  {
   "cell_type": "code",
   "execution_count": 4,
   "id": "28a6070e-9e69-4718-bd89-a45c6c18e547",
   "metadata": {},
   "outputs": [
    {
     "data": {
      "text/html": [
       "<div>\n",
       "<style scoped>\n",
       "    .dataframe tbody tr th:only-of-type {\n",
       "        vertical-align: middle;\n",
       "    }\n",
       "\n",
       "    .dataframe tbody tr th {\n",
       "        vertical-align: top;\n",
       "    }\n",
       "\n",
       "    .dataframe thead th {\n",
       "        text-align: right;\n",
       "    }\n",
       "</style>\n",
       "<table border=\"1\" class=\"dataframe\">\n",
       "  <thead>\n",
       "    <tr style=\"text-align: right;\">\n",
       "      <th></th>\n",
       "      <th>cluster</th>\n",
       "      <th>icao_code</th>\n",
       "      <th>icao_code_old</th>\n",
       "      <th>lat_dd</th>\n",
       "      <th>long_dd</th>\n",
       "      <th>city_primary</th>\n",
       "      <th>state</th>\n",
       "      <th>count</th>\n",
       "      <th>percentage</th>\n",
       "    </tr>\n",
       "  </thead>\n",
       "  <tbody>\n",
       "    <tr>\n",
       "      <th>0</th>\n",
       "      <td>1</td>\n",
       "      <td>SBGR</td>\n",
       "      <td>NaN</td>\n",
       "      <td>-23.435556</td>\n",
       "      <td>-46.473056</td>\n",
       "      <td>Guarulhos</td>\n",
       "      <td>SP</td>\n",
       "      <td>818607</td>\n",
       "      <td>9.35</td>\n",
       "    </tr>\n",
       "    <tr>\n",
       "      <th>1</th>\n",
       "      <td>1</td>\n",
       "      <td>SBBR</td>\n",
       "      <td>NaN</td>\n",
       "      <td>-15.871111</td>\n",
       "      <td>-47.918611</td>\n",
       "      <td>Brasília</td>\n",
       "      <td>DF</td>\n",
       "      <td>732100</td>\n",
       "      <td>8.37</td>\n",
       "    </tr>\n",
       "    <tr>\n",
       "      <th>2</th>\n",
       "      <td>2</td>\n",
       "      <td>SBSP</td>\n",
       "      <td>NaN</td>\n",
       "      <td>-23.626111</td>\n",
       "      <td>-46.656389</td>\n",
       "      <td>São paulo</td>\n",
       "      <td>SP</td>\n",
       "      <td>794108</td>\n",
       "      <td>9.07</td>\n",
       "    </tr>\n",
       "    <tr>\n",
       "      <th>3</th>\n",
       "      <td>2</td>\n",
       "      <td>SBGL</td>\n",
       "      <td>NaN</td>\n",
       "      <td>-22.810000</td>\n",
       "      <td>-43.250556</td>\n",
       "      <td>Rio de janeiro</td>\n",
       "      <td>RJ</td>\n",
       "      <td>520716</td>\n",
       "      <td>5.95</td>\n",
       "    </tr>\n",
       "    <tr>\n",
       "      <th>4</th>\n",
       "      <td>2</td>\n",
       "      <td>SBSV</td>\n",
       "      <td>NaN</td>\n",
       "      <td>-12.908611</td>\n",
       "      <td>-38.322500</td>\n",
       "      <td>Salvador</td>\n",
       "      <td>BA</td>\n",
       "      <td>409223</td>\n",
       "      <td>4.68</td>\n",
       "    </tr>\n",
       "    <tr>\n",
       "      <th>...</th>\n",
       "      <td>...</td>\n",
       "      <td>...</td>\n",
       "      <td>...</td>\n",
       "      <td>...</td>\n",
       "      <td>...</td>\n",
       "      <td>...</td>\n",
       "      <td>...</td>\n",
       "      <td>...</td>\n",
       "      <td>...</td>\n",
       "    </tr>\n",
       "    <tr>\n",
       "      <th>221</th>\n",
       "      <td>8</td>\n",
       "      <td>SWFX</td>\n",
       "      <td>NaN</td>\n",
       "      <td>-11.631944</td>\n",
       "      <td>-50.688333</td>\n",
       "      <td>São félix do araguaia</td>\n",
       "      <td>MT</td>\n",
       "      <td>710</td>\n",
       "      <td>0.01</td>\n",
       "    </tr>\n",
       "    <tr>\n",
       "      <th>222</th>\n",
       "      <td>8</td>\n",
       "      <td>SWLB</td>\n",
       "      <td>NaN</td>\n",
       "      <td>-7.278889</td>\n",
       "      <td>-64.769444</td>\n",
       "      <td>Lábrea</td>\n",
       "      <td>AM</td>\n",
       "      <td>675</td>\n",
       "      <td>0.01</td>\n",
       "    </tr>\n",
       "    <tr>\n",
       "      <th>223</th>\n",
       "      <td>8</td>\n",
       "      <td>SBPG</td>\n",
       "      <td>SSZW</td>\n",
       "      <td>-25.184444</td>\n",
       "      <td>-50.143889</td>\n",
       "      <td>Ponta grossa</td>\n",
       "      <td>PR</td>\n",
       "      <td>674</td>\n",
       "      <td>0.01</td>\n",
       "    </tr>\n",
       "    <tr>\n",
       "      <th>224</th>\n",
       "      <td>8</td>\n",
       "      <td>SBUA</td>\n",
       "      <td>NaN</td>\n",
       "      <td>-0.148056</td>\n",
       "      <td>-66.985833</td>\n",
       "      <td>São gabriel da cachoeira</td>\n",
       "      <td>AM</td>\n",
       "      <td>875</td>\n",
       "      <td>0.01</td>\n",
       "    </tr>\n",
       "    <tr>\n",
       "      <th>225</th>\n",
       "      <td>8</td>\n",
       "      <td>SBUY</td>\n",
       "      <td>NaN</td>\n",
       "      <td>-4.883056</td>\n",
       "      <td>-65.355833</td>\n",
       "      <td>Coari</td>\n",
       "      <td>AM</td>\n",
       "      <td>1</td>\n",
       "      <td>0.00</td>\n",
       "    </tr>\n",
       "  </tbody>\n",
       "</table>\n",
       "<p>226 rows × 9 columns</p>\n",
       "</div>"
      ],
      "text/plain": [
       "     cluster icao_code icao_code_old     lat_dd    long_dd  \\\n",
       "0          1      SBGR           NaN -23.435556 -46.473056   \n",
       "1          1      SBBR           NaN -15.871111 -47.918611   \n",
       "2          2      SBSP           NaN -23.626111 -46.656389   \n",
       "3          2      SBGL           NaN -22.810000 -43.250556   \n",
       "4          2      SBSV           NaN -12.908611 -38.322500   \n",
       "..       ...       ...           ...        ...        ...   \n",
       "221        8      SWFX           NaN -11.631944 -50.688333   \n",
       "222        8      SWLB           NaN  -7.278889 -64.769444   \n",
       "223        8      SBPG          SSZW -25.184444 -50.143889   \n",
       "224        8      SBUA           NaN  -0.148056 -66.985833   \n",
       "225        8      SBUY           NaN  -4.883056 -65.355833   \n",
       "\n",
       "                 city_primary state   count  percentage  \n",
       "0                   Guarulhos    SP  818607        9.35  \n",
       "1                    Brasília    DF  732100        8.37  \n",
       "2                   São paulo    SP  794108        9.07  \n",
       "3              Rio de janeiro    RJ  520716        5.95  \n",
       "4                    Salvador    BA  409223        4.68  \n",
       "..                        ...   ...     ...         ...  \n",
       "221     São félix do araguaia    MT     710        0.01  \n",
       "222                    Lábrea    AM     675        0.01  \n",
       "223              Ponta grossa    PR     674        0.01  \n",
       "224  São gabriel da cachoeira    AM     875        0.01  \n",
       "225                     Coari    AM       1        0.00  \n",
       "\n",
       "[226 rows x 9 columns]"
      ]
     },
     "execution_count": 4,
     "metadata": {},
     "output_type": "execute_result"
    }
   ],
   "source": [
    "df_clusters"
   ]
  },
  {
   "cell_type": "code",
   "execution_count": 5,
   "id": "ece191b5-abd1-4733-82d9-1ccbe0b73db1",
   "metadata": {},
   "outputs": [],
   "source": [
    "count_perc = df_clusters.groupby(\"cluster\")[[\"count\", \"percentage\"]].sum().reset_index()"
   ]
  },
  {
   "cell_type": "code",
   "execution_count": 6,
   "id": "dd885710-6411-414c-a5a1-a2d0e0973bef",
   "metadata": {},
   "outputs": [
    {
     "data": {
      "text/html": [
       "<div>\n",
       "<style scoped>\n",
       "    .dataframe tbody tr th:only-of-type {\n",
       "        vertical-align: middle;\n",
       "    }\n",
       "\n",
       "    .dataframe tbody tr th {\n",
       "        vertical-align: top;\n",
       "    }\n",
       "\n",
       "    .dataframe thead th {\n",
       "        text-align: right;\n",
       "    }\n",
       "</style>\n",
       "<table border=\"1\" class=\"dataframe\">\n",
       "  <thead>\n",
       "    <tr style=\"text-align: right;\">\n",
       "      <th></th>\n",
       "      <th>cluster</th>\n",
       "      <th>count</th>\n",
       "      <th>percentage</th>\n",
       "    </tr>\n",
       "  </thead>\n",
       "  <tbody>\n",
       "    <tr>\n",
       "      <th>0</th>\n",
       "      <td>1</td>\n",
       "      <td>1550707</td>\n",
       "      <td>17.72</td>\n",
       "    </tr>\n",
       "    <tr>\n",
       "      <th>1</th>\n",
       "      <td>2</td>\n",
       "      <td>2338474</td>\n",
       "      <td>26.72</td>\n",
       "    </tr>\n",
       "    <tr>\n",
       "      <th>2</th>\n",
       "      <td>3</td>\n",
       "      <td>2117470</td>\n",
       "      <td>24.20</td>\n",
       "    </tr>\n",
       "    <tr>\n",
       "      <th>3</th>\n",
       "      <td>4</td>\n",
       "      <td>1653230</td>\n",
       "      <td>18.89</td>\n",
       "    </tr>\n",
       "    <tr>\n",
       "      <th>4</th>\n",
       "      <td>5</td>\n",
       "      <td>148016</td>\n",
       "      <td>1.70</td>\n",
       "    </tr>\n",
       "    <tr>\n",
       "      <th>5</th>\n",
       "      <td>6</td>\n",
       "      <td>495725</td>\n",
       "      <td>5.65</td>\n",
       "    </tr>\n",
       "    <tr>\n",
       "      <th>6</th>\n",
       "      <td>7</td>\n",
       "      <td>234609</td>\n",
       "      <td>2.69</td>\n",
       "    </tr>\n",
       "    <tr>\n",
       "      <th>7</th>\n",
       "      <td>8</td>\n",
       "      <td>213611</td>\n",
       "      <td>2.34</td>\n",
       "    </tr>\n",
       "  </tbody>\n",
       "</table>\n",
       "</div>"
      ],
      "text/plain": [
       "   cluster    count  percentage\n",
       "0        1  1550707       17.72\n",
       "1        2  2338474       26.72\n",
       "2        3  2117470       24.20\n",
       "3        4  1653230       18.89\n",
       "4        5   148016        1.70\n",
       "5        6   495725        5.65\n",
       "6        7   234609        2.69\n",
       "7        8   213611        2.34"
      ]
     },
     "execution_count": 6,
     "metadata": {},
     "output_type": "execute_result"
    }
   ],
   "source": [
    "count_perc"
   ]
  },
  {
   "cell_type": "code",
   "execution_count": 7,
   "id": "4b88d998-6054-4959-be6c-3646883d1379",
   "metadata": {},
   "outputs": [
    {
     "data": {
      "image/png": "[encoded data removed]",
      "text/plain": [
       "<Figure size 432x432 with 1 Axes>"
      ]
     },
     "metadata": {
      "image/png": {
       "height": 386,
       "width": 382
      },
      "needs_background": "light"
     },
     "output_type": "display_data"
    }
   ],
   "source": [
    "# Set up for higher resolution screen\n",
    "%config InlineBackend.figure_format = 'retina'\n",
    "\n",
    "plt.figure(figsize=(6, 6))\n",
    "plt.title(\"Clusters and %\")\n",
    "sns.barplot(x=\"cluster\", y=\"percentage\", data=count_perc, color=\"c\")\n",
    "plt.show()"
   ]
  },
  {
   "cell_type": "code",
   "execution_count": 8,
   "id": "5236622f-c27e-44a8-b967-90751f0239f3",
   "metadata": {},
   "outputs": [],
   "source": [
    "# read csv"
   ]
  },
  {
   "cell_type": "code",
   "execution_count": 9,
   "id": "aad54d34-c8ad-4b60-8180-89ee65c12ad1",
   "metadata": {},
   "outputs": [],
   "source": [
    "df_regional_flights = pd.read_csv(\"./assets/csv/df_regional_flights.csv\", sep=',').drop(columns='Unnamed: 0')"
   ]
  },
  {
   "cell_type": "code",
   "execution_count": 20,
   "id": "7fb6bbc7-ddf0-4884-b6fc-e631aefb8a66",
   "metadata": {},
   "outputs": [
    {
     "data": {
      "text/html": [
       "<div>\n",
       "<style scoped>\n",
       "    .dataframe tbody tr th:only-of-type {\n",
       "        vertical-align: middle;\n",
       "    }\n",
       "\n",
       "    .dataframe tbody tr th {\n",
       "        vertical-align: top;\n",
       "    }\n",
       "\n",
       "    .dataframe thead th {\n",
       "        text-align: right;\n",
       "    }\n",
       "</style>\n",
       "<table border=\"1\" class=\"dataframe\">\n",
       "  <thead>\n",
       "    <tr style=\"text-align: right;\">\n",
       "      <th></th>\n",
       "      <th>icao_carrier</th>\n",
       "      <th>iata_carrier</th>\n",
       "      <th>flight</th>\n",
       "      <th>flight_step</th>\n",
       "      <th>icao_origin</th>\n",
       "      <th>iata_origin</th>\n",
       "      <th>dep_airport_name</th>\n",
       "      <th>dep_city</th>\n",
       "      <th>dep_state</th>\n",
       "      <th>dep_region</th>\n",
       "      <th>sched_date</th>\n",
       "      <th>sched_year</th>\n",
       "      <th>sched_month</th>\n",
       "      <th>sched_day</th>\n",
       "      <th>dep_time</th>\n",
       "      <th>dep_date</th>\n",
       "      <th>dep_year</th>\n",
       "      <th>dep_month</th>\n",
       "      <th>dep_day</th>\n",
       "      <th>dep_week_day</th>\n",
       "      <th>reference_month</th>\n",
       "      <th>icao_dest</th>\n",
       "      <th>iata_dest</th>\n",
       "      <th>arr_airport_name</th>\n",
       "      <th>arr_city</th>\n",
       "      <th>arr_state</th>\n",
       "      <th>arr_region</th>\n",
       "      <th>arr_time</th>\n",
       "      <th>arr_date</th>\n",
       "      <th>arr_year</th>\n",
       "      <th>arr_month</th>\n",
       "      <th>arr_day</th>\n",
       "      <th>icao_aircraft_type</th>\n",
       "      <th>aircraft_model</th>\n",
       "      <th>fuel_consumption_l</th>\n",
       "      <th>payload_kg</th>\n",
       "      <th>flight_distance_km</th>\n",
       "      <th>flight_hrs</th>\n",
       "      <th>flight_speed_avg</th>\n",
       "      <th>seats_available</th>\n",
       "      <th>seats_sold</th>\n",
       "      <th>seats_free</th>\n",
       "      <th>pax_baggage_free_kg</th>\n",
       "      <th>pax_baggage_paid_kg</th>\n",
       "      <th>cargo_paid_kg</th>\n",
       "      <th>cargo_mail_kg</th>\n",
       "      <th>cargo_free_kg</th>\n",
       "      <th>aircraft_freight_kg</th>\n",
       "      <th>pax_free_km</th>\n",
       "      <th>cargo_paid_km</th>\n",
       "      <th>cargo_free_km</th>\n",
       "      <th>cargo_mail_km</th>\n",
       "      <th>baggage_free_km</th>\n",
       "      <th>baggage_paid_km</th>\n",
       "      <th>available_seat_km</th>\n",
       "      <th>revenue_pax_km</th>\n",
       "      <th>available_tonne_km</th>\n",
       "      <th>revenue_tonne_km</th>\n",
       "      <th>flight_unique_nr</th>\n",
       "      <th>route_icao</th>\n",
       "      <th>route_iata</th>\n",
       "      <th>lat_dd_origin</th>\n",
       "      <th>long_dd_origin</th>\n",
       "      <th>cluster_origin</th>\n",
       "      <th>lat_dd_dest</th>\n",
       "      <th>long_dd_dest</th>\n",
       "      <th>cluster_dest</th>\n",
       "    </tr>\n",
       "  </thead>\n",
       "  <tbody>\n",
       "    <tr>\n",
       "      <th>0</th>\n",
       "      <td>RSL</td>\n",
       "      <td>SL</td>\n",
       "      <td>5260</td>\n",
       "      <td>2</td>\n",
       "      <td>SBLO</td>\n",
       "      <td>LDB</td>\n",
       "      <td>Governador José Richa</td>\n",
       "      <td>Londrina</td>\n",
       "      <td>PR</td>\n",
       "      <td>5</td>\n",
       "      <td>2002-09-01</td>\n",
       "      <td>2002</td>\n",
       "      <td>9</td>\n",
       "      <td>1</td>\n",
       "      <td>11:46:00</td>\n",
       "      <td>2002-09-01</td>\n",
       "      <td>2002</td>\n",
       "      <td>9</td>\n",
       "      <td>1</td>\n",
       "      <td>7</td>\n",
       "      <td>SETEMBRO</td>\n",
       "      <td>SBCT</td>\n",
       "      <td>CWB</td>\n",
       "      <td>Afonso Pena</td>\n",
       "      <td>São José Dos Pinhais</td>\n",
       "      <td>PR</td>\n",
       "      <td>SUL</td>\n",
       "      <td>12:27:00</td>\n",
       "      <td>2002-09-01</td>\n",
       "      <td>2002</td>\n",
       "      <td>9</td>\n",
       "      <td>1</td>\n",
       "      <td>E145</td>\n",
       "      <td>EMBRAER RJ145 AMAZON</td>\n",
       "      <td>784.0</td>\n",
       "      <td>4908</td>\n",
       "      <td>315.0</td>\n",
       "      <td>0.68</td>\n",
       "      <td>463.42</td>\n",
       "      <td>50</td>\n",
       "      <td>21.0</td>\n",
       "      <td>0.0</td>\n",
       "      <td>199</td>\n",
       "      <td>0</td>\n",
       "      <td>0.0</td>\n",
       "      <td>0.0</td>\n",
       "      <td>0.0</td>\n",
       "      <td>1774.0</td>\n",
       "      <td>0.0</td>\n",
       "      <td>0</td>\n",
       "      <td>0</td>\n",
       "      <td>0</td>\n",
       "      <td>62685</td>\n",
       "      <td>0</td>\n",
       "      <td>15750</td>\n",
       "      <td>6615</td>\n",
       "      <td>1546</td>\n",
       "      <td>1546</td>\n",
       "      <td>5260_2</td>\n",
       "      <td>SBLO-SBCT</td>\n",
       "      <td>LDB-CWB</td>\n",
       "      <td>-23.3303</td>\n",
       "      <td>-51.1367</td>\n",
       "      <td>6</td>\n",
       "      <td>-25.5317</td>\n",
       "      <td>-49.1761</td>\n",
       "      <td>4</td>\n",
       "    </tr>\n",
       "    <tr>\n",
       "      <th>1</th>\n",
       "      <td>RSL</td>\n",
       "      <td>SL</td>\n",
       "      <td>5249</td>\n",
       "      <td>1</td>\n",
       "      <td>SBLO</td>\n",
       "      <td>LDB</td>\n",
       "      <td>Governador José Richa</td>\n",
       "      <td>Londrina</td>\n",
       "      <td>PR</td>\n",
       "      <td>5</td>\n",
       "      <td>2002-09-01</td>\n",
       "      <td>2002</td>\n",
       "      <td>9</td>\n",
       "      <td>1</td>\n",
       "      <td>19:57:00</td>\n",
       "      <td>2002-09-01</td>\n",
       "      <td>2002</td>\n",
       "      <td>9</td>\n",
       "      <td>1</td>\n",
       "      <td>7</td>\n",
       "      <td>SETEMBRO</td>\n",
       "      <td>SBCT</td>\n",
       "      <td>CWB</td>\n",
       "      <td>Afonso Pena</td>\n",
       "      <td>São José Dos Pinhais</td>\n",
       "      <td>PR</td>\n",
       "      <td>SUL</td>\n",
       "      <td>20:37:00</td>\n",
       "      <td>2002-09-01</td>\n",
       "      <td>2002</td>\n",
       "      <td>9</td>\n",
       "      <td>1</td>\n",
       "      <td>E145</td>\n",
       "      <td>EMBRAER RJ145 AMAZON</td>\n",
       "      <td>756.0</td>\n",
       "      <td>4875</td>\n",
       "      <td>315.0</td>\n",
       "      <td>0.67</td>\n",
       "      <td>470.34</td>\n",
       "      <td>50</td>\n",
       "      <td>43.0</td>\n",
       "      <td>0.0</td>\n",
       "      <td>267</td>\n",
       "      <td>0</td>\n",
       "      <td>0.0</td>\n",
       "      <td>0.0</td>\n",
       "      <td>0.0</td>\n",
       "      <td>3492.0</td>\n",
       "      <td>0.0</td>\n",
       "      <td>0</td>\n",
       "      <td>0</td>\n",
       "      <td>0</td>\n",
       "      <td>84105</td>\n",
       "      <td>0</td>\n",
       "      <td>15750</td>\n",
       "      <td>13545</td>\n",
       "      <td>1535</td>\n",
       "      <td>1535</td>\n",
       "      <td>5249_1</td>\n",
       "      <td>SBLO-SBCT</td>\n",
       "      <td>LDB-CWB</td>\n",
       "      <td>-23.3303</td>\n",
       "      <td>-51.1367</td>\n",
       "      <td>6</td>\n",
       "      <td>-25.5317</td>\n",
       "      <td>-49.1761</td>\n",
       "      <td>4</td>\n",
       "    </tr>\n",
       "  </tbody>\n",
       "</table>\n",
       "</div>"
      ],
      "text/plain": [
       "  icao_carrier iata_carrier  flight  flight_step icao_origin iata_origin  \\\n",
       "0          RSL           SL    5260            2        SBLO         LDB   \n",
       "1          RSL           SL    5249            1        SBLO         LDB   \n",
       "\n",
       "        dep_airport_name  dep_city dep_state  dep_region  sched_date  \\\n",
       "0  Governador José Richa  Londrina        PR           5  2002-09-01   \n",
       "1  Governador José Richa  Londrina        PR           5  2002-09-01   \n",
       "\n",
       "   sched_year  sched_month  sched_day  dep_time    dep_date  dep_year  \\\n",
       "0        2002            9          1  11:46:00  2002-09-01      2002   \n",
       "1        2002            9          1  19:57:00  2002-09-01      2002   \n",
       "\n",
       "   dep_month  dep_day  dep_week_day reference_month icao_dest iata_dest  \\\n",
       "0          9        1             7        SETEMBRO      SBCT       CWB   \n",
       "1          9        1             7        SETEMBRO      SBCT       CWB   \n",
       "\n",
       "  arr_airport_name              arr_city arr_state arr_region  arr_time  \\\n",
       "0      Afonso Pena  São José Dos Pinhais        PR        SUL  12:27:00   \n",
       "1      Afonso Pena  São José Dos Pinhais        PR        SUL  20:37:00   \n",
       "\n",
       "     arr_date  arr_year  arr_month  arr_day icao_aircraft_type  \\\n",
       "0  2002-09-01      2002          9        1               E145   \n",
       "1  2002-09-01      2002          9        1               E145   \n",
       "\n",
       "         aircraft_model  fuel_consumption_l  payload_kg  flight_distance_km  \\\n",
       "0  EMBRAER RJ145 AMAZON               784.0        4908               315.0   \n",
       "1  EMBRAER RJ145 AMAZON               756.0        4875               315.0   \n",
       "\n",
       "   flight_hrs  flight_speed_avg  seats_available  seats_sold  seats_free  \\\n",
       "0        0.68            463.42               50        21.0         0.0   \n",
       "1        0.67            470.34               50        43.0         0.0   \n",
       "\n",
       "   pax_baggage_free_kg  pax_baggage_paid_kg  cargo_paid_kg  cargo_mail_kg  \\\n",
       "0                  199                    0            0.0            0.0   \n",
       "1                  267                    0            0.0            0.0   \n",
       "\n",
       "   cargo_free_kg  aircraft_freight_kg  pax_free_km  cargo_paid_km  \\\n",
       "0            0.0               1774.0          0.0              0   \n",
       "1            0.0               3492.0          0.0              0   \n",
       "\n",
       "   cargo_free_km  cargo_mail_km  baggage_free_km  baggage_paid_km  \\\n",
       "0              0              0            62685                0   \n",
       "1              0              0            84105                0   \n",
       "\n",
       "   available_seat_km  revenue_pax_km  available_tonne_km  revenue_tonne_km  \\\n",
       "0              15750            6615                1546              1546   \n",
       "1              15750           13545                1535              1535   \n",
       "\n",
       "  flight_unique_nr route_icao route_iata  lat_dd_origin  long_dd_origin  \\\n",
       "0           5260_2  SBLO-SBCT    LDB-CWB       -23.3303        -51.1367   \n",
       "1           5249_1  SBLO-SBCT    LDB-CWB       -23.3303        -51.1367   \n",
       "\n",
       "   cluster_origin  lat_dd_dest  long_dd_dest  cluster_dest  \n",
       "0               6     -25.5317      -49.1761             4  \n",
       "1               6     -25.5317      -49.1761             4  "
      ]
     },
     "execution_count": 20,
     "metadata": {},
     "output_type": "execute_result"
    }
   ],
   "source": [
    "df_regional_flights.head(2)"
   ]
  },
  {
   "cell_type": "code",
   "execution_count": 21,
   "id": "ed8203fd-6587-4242-a6a2-66837edde2ab",
   "metadata": {},
   "outputs": [],
   "source": [
    "df_regional_flights['seats_total'] = df_regional_flights['seats_sold'] + df_regional_flights['seats_free']"
   ]
  },
  {
   "cell_type": "code",
   "execution_count": 22,
   "id": "ca271003-3cf8-417a-9d31-600f399936aa",
   "metadata": {},
   "outputs": [
    {
     "data": {
      "text/html": [
       "<div>\n",
       "<style scoped>\n",
       "    .dataframe tbody tr th:only-of-type {\n",
       "        vertical-align: middle;\n",
       "    }\n",
       "\n",
       "    .dataframe tbody tr th {\n",
       "        vertical-align: top;\n",
       "    }\n",
       "\n",
       "    .dataframe thead th {\n",
       "        text-align: right;\n",
       "    }\n",
       "</style>\n",
       "<table border=\"1\" class=\"dataframe\">\n",
       "  <thead>\n",
       "    <tr style=\"text-align: right;\">\n",
       "      <th></th>\n",
       "      <th>icao_carrier</th>\n",
       "      <th>iata_carrier</th>\n",
       "      <th>flight</th>\n",
       "      <th>flight_step</th>\n",
       "      <th>icao_origin</th>\n",
       "      <th>iata_origin</th>\n",
       "      <th>dep_airport_name</th>\n",
       "      <th>dep_city</th>\n",
       "      <th>dep_state</th>\n",
       "      <th>dep_region</th>\n",
       "      <th>sched_date</th>\n",
       "      <th>sched_year</th>\n",
       "      <th>sched_month</th>\n",
       "      <th>sched_day</th>\n",
       "      <th>dep_time</th>\n",
       "      <th>dep_date</th>\n",
       "      <th>dep_year</th>\n",
       "      <th>dep_month</th>\n",
       "      <th>dep_day</th>\n",
       "      <th>dep_week_day</th>\n",
       "      <th>reference_month</th>\n",
       "      <th>icao_dest</th>\n",
       "      <th>iata_dest</th>\n",
       "      <th>arr_airport_name</th>\n",
       "      <th>arr_city</th>\n",
       "      <th>arr_state</th>\n",
       "      <th>arr_region</th>\n",
       "      <th>arr_time</th>\n",
       "      <th>arr_date</th>\n",
       "      <th>arr_year</th>\n",
       "      <th>arr_month</th>\n",
       "      <th>arr_day</th>\n",
       "      <th>icao_aircraft_type</th>\n",
       "      <th>aircraft_model</th>\n",
       "      <th>fuel_consumption_l</th>\n",
       "      <th>payload_kg</th>\n",
       "      <th>flight_distance_km</th>\n",
       "      <th>flight_hrs</th>\n",
       "      <th>flight_speed_avg</th>\n",
       "      <th>seats_available</th>\n",
       "      <th>seats_sold</th>\n",
       "      <th>seats_free</th>\n",
       "      <th>pax_baggage_free_kg</th>\n",
       "      <th>pax_baggage_paid_kg</th>\n",
       "      <th>cargo_paid_kg</th>\n",
       "      <th>cargo_mail_kg</th>\n",
       "      <th>cargo_free_kg</th>\n",
       "      <th>aircraft_freight_kg</th>\n",
       "      <th>pax_free_km</th>\n",
       "      <th>cargo_paid_km</th>\n",
       "      <th>cargo_free_km</th>\n",
       "      <th>cargo_mail_km</th>\n",
       "      <th>baggage_free_km</th>\n",
       "      <th>baggage_paid_km</th>\n",
       "      <th>available_seat_km</th>\n",
       "      <th>revenue_pax_km</th>\n",
       "      <th>available_tonne_km</th>\n",
       "      <th>revenue_tonne_km</th>\n",
       "      <th>flight_unique_nr</th>\n",
       "      <th>route_icao</th>\n",
       "      <th>route_iata</th>\n",
       "      <th>lat_dd_origin</th>\n",
       "      <th>long_dd_origin</th>\n",
       "      <th>cluster_origin</th>\n",
       "      <th>lat_dd_dest</th>\n",
       "      <th>long_dd_dest</th>\n",
       "      <th>cluster_dest</th>\n",
       "      <th>seats_total</th>\n",
       "    </tr>\n",
       "  </thead>\n",
       "  <tbody>\n",
       "    <tr>\n",
       "      <th>0</th>\n",
       "      <td>RSL</td>\n",
       "      <td>SL</td>\n",
       "      <td>5260</td>\n",
       "      <td>2</td>\n",
       "      <td>SBLO</td>\n",
       "      <td>LDB</td>\n",
       "      <td>Governador José Richa</td>\n",
       "      <td>Londrina</td>\n",
       "      <td>PR</td>\n",
       "      <td>5</td>\n",
       "      <td>2002-09-01</td>\n",
       "      <td>2002</td>\n",
       "      <td>9</td>\n",
       "      <td>1</td>\n",
       "      <td>11:46:00</td>\n",
       "      <td>2002-09-01</td>\n",
       "      <td>2002</td>\n",
       "      <td>9</td>\n",
       "      <td>1</td>\n",
       "      <td>7</td>\n",
       "      <td>SETEMBRO</td>\n",
       "      <td>SBCT</td>\n",
       "      <td>CWB</td>\n",
       "      <td>Afonso Pena</td>\n",
       "      <td>São José Dos Pinhais</td>\n",
       "      <td>PR</td>\n",
       "      <td>SUL</td>\n",
       "      <td>12:27:00</td>\n",
       "      <td>2002-09-01</td>\n",
       "      <td>2002</td>\n",
       "      <td>9</td>\n",
       "      <td>1</td>\n",
       "      <td>E145</td>\n",
       "      <td>EMBRAER RJ145 AMAZON</td>\n",
       "      <td>784.0</td>\n",
       "      <td>4908</td>\n",
       "      <td>315.0</td>\n",
       "      <td>0.68</td>\n",
       "      <td>463.42</td>\n",
       "      <td>50</td>\n",
       "      <td>21.0</td>\n",
       "      <td>0.0</td>\n",
       "      <td>199</td>\n",
       "      <td>0</td>\n",
       "      <td>0.0</td>\n",
       "      <td>0.0</td>\n",
       "      <td>0.0</td>\n",
       "      <td>1774.0</td>\n",
       "      <td>0.0</td>\n",
       "      <td>0</td>\n",
       "      <td>0</td>\n",
       "      <td>0</td>\n",
       "      <td>62685</td>\n",
       "      <td>0</td>\n",
       "      <td>15750</td>\n",
       "      <td>6615</td>\n",
       "      <td>1546</td>\n",
       "      <td>1546</td>\n",
       "      <td>5260_2</td>\n",
       "      <td>SBLO-SBCT</td>\n",
       "      <td>LDB-CWB</td>\n",
       "      <td>-23.3303</td>\n",
       "      <td>-51.1367</td>\n",
       "      <td>6</td>\n",
       "      <td>-25.5317</td>\n",
       "      <td>-49.1761</td>\n",
       "      <td>4</td>\n",
       "      <td>21.0</td>\n",
       "    </tr>\n",
       "    <tr>\n",
       "      <th>1</th>\n",
       "      <td>RSL</td>\n",
       "      <td>SL</td>\n",
       "      <td>5249</td>\n",
       "      <td>1</td>\n",
       "      <td>SBLO</td>\n",
       "      <td>LDB</td>\n",
       "      <td>Governador José Richa</td>\n",
       "      <td>Londrina</td>\n",
       "      <td>PR</td>\n",
       "      <td>5</td>\n",
       "      <td>2002-09-01</td>\n",
       "      <td>2002</td>\n",
       "      <td>9</td>\n",
       "      <td>1</td>\n",
       "      <td>19:57:00</td>\n",
       "      <td>2002-09-01</td>\n",
       "      <td>2002</td>\n",
       "      <td>9</td>\n",
       "      <td>1</td>\n",
       "      <td>7</td>\n",
       "      <td>SETEMBRO</td>\n",
       "      <td>SBCT</td>\n",
       "      <td>CWB</td>\n",
       "      <td>Afonso Pena</td>\n",
       "      <td>São José Dos Pinhais</td>\n",
       "      <td>PR</td>\n",
       "      <td>SUL</td>\n",
       "      <td>20:37:00</td>\n",
       "      <td>2002-09-01</td>\n",
       "      <td>2002</td>\n",
       "      <td>9</td>\n",
       "      <td>1</td>\n",
       "      <td>E145</td>\n",
       "      <td>EMBRAER RJ145 AMAZON</td>\n",
       "      <td>756.0</td>\n",
       "      <td>4875</td>\n",
       "      <td>315.0</td>\n",
       "      <td>0.67</td>\n",
       "      <td>470.34</td>\n",
       "      <td>50</td>\n",
       "      <td>43.0</td>\n",
       "      <td>0.0</td>\n",
       "      <td>267</td>\n",
       "      <td>0</td>\n",
       "      <td>0.0</td>\n",
       "      <td>0.0</td>\n",
       "      <td>0.0</td>\n",
       "      <td>3492.0</td>\n",
       "      <td>0.0</td>\n",
       "      <td>0</td>\n",
       "      <td>0</td>\n",
       "      <td>0</td>\n",
       "      <td>84105</td>\n",
       "      <td>0</td>\n",
       "      <td>15750</td>\n",
       "      <td>13545</td>\n",
       "      <td>1535</td>\n",
       "      <td>1535</td>\n",
       "      <td>5249_1</td>\n",
       "      <td>SBLO-SBCT</td>\n",
       "      <td>LDB-CWB</td>\n",
       "      <td>-23.3303</td>\n",
       "      <td>-51.1367</td>\n",
       "      <td>6</td>\n",
       "      <td>-25.5317</td>\n",
       "      <td>-49.1761</td>\n",
       "      <td>4</td>\n",
       "      <td>43.0</td>\n",
       "    </tr>\n",
       "  </tbody>\n",
       "</table>\n",
       "</div>"
      ],
      "text/plain": [
       "  icao_carrier iata_carrier  flight  flight_step icao_origin iata_origin  \\\n",
       "0          RSL           SL    5260            2        SBLO         LDB   \n",
       "1          RSL           SL    5249            1        SBLO         LDB   \n",
       "\n",
       "        dep_airport_name  dep_city dep_state  dep_region  sched_date  \\\n",
       "0  Governador José Richa  Londrina        PR           5  2002-09-01   \n",
       "1  Governador José Richa  Londrina        PR           5  2002-09-01   \n",
       "\n",
       "   sched_year  sched_month  sched_day  dep_time    dep_date  dep_year  \\\n",
       "0        2002            9          1  11:46:00  2002-09-01      2002   \n",
       "1        2002            9          1  19:57:00  2002-09-01      2002   \n",
       "\n",
       "   dep_month  dep_day  dep_week_day reference_month icao_dest iata_dest  \\\n",
       "0          9        1             7        SETEMBRO      SBCT       CWB   \n",
       "1          9        1             7        SETEMBRO      SBCT       CWB   \n",
       "\n",
       "  arr_airport_name              arr_city arr_state arr_region  arr_time  \\\n",
       "0      Afonso Pena  São José Dos Pinhais        PR        SUL  12:27:00   \n",
       "1      Afonso Pena  São José Dos Pinhais        PR        SUL  20:37:00   \n",
       "\n",
       "     arr_date  arr_year  arr_month  arr_day icao_aircraft_type  \\\n",
       "0  2002-09-01      2002          9        1               E145   \n",
       "1  2002-09-01      2002          9        1               E145   \n",
       "\n",
       "         aircraft_model  fuel_consumption_l  payload_kg  flight_distance_km  \\\n",
       "0  EMBRAER RJ145 AMAZON               784.0        4908               315.0   \n",
       "1  EMBRAER RJ145 AMAZON               756.0        4875               315.0   \n",
       "\n",
       "   flight_hrs  flight_speed_avg  seats_available  seats_sold  seats_free  \\\n",
       "0        0.68            463.42               50        21.0         0.0   \n",
       "1        0.67            470.34               50        43.0         0.0   \n",
       "\n",
       "   pax_baggage_free_kg  pax_baggage_paid_kg  cargo_paid_kg  cargo_mail_kg  \\\n",
       "0                  199                    0            0.0            0.0   \n",
       "1                  267                    0            0.0            0.0   \n",
       "\n",
       "   cargo_free_kg  aircraft_freight_kg  pax_free_km  cargo_paid_km  \\\n",
       "0            0.0               1774.0          0.0              0   \n",
       "1            0.0               3492.0          0.0              0   \n",
       "\n",
       "   cargo_free_km  cargo_mail_km  baggage_free_km  baggage_paid_km  \\\n",
       "0              0              0            62685                0   \n",
       "1              0              0            84105                0   \n",
       "\n",
       "   available_seat_km  revenue_pax_km  available_tonne_km  revenue_tonne_km  \\\n",
       "0              15750            6615                1546              1546   \n",
       "1              15750           13545                1535              1535   \n",
       "\n",
       "  flight_unique_nr route_icao route_iata  lat_dd_origin  long_dd_origin  \\\n",
       "0           5260_2  SBLO-SBCT    LDB-CWB       -23.3303        -51.1367   \n",
       "1           5249_1  SBLO-SBCT    LDB-CWB       -23.3303        -51.1367   \n",
       "\n",
       "   cluster_origin  lat_dd_dest  long_dd_dest  cluster_dest  seats_total  \n",
       "0               6     -25.5317      -49.1761             4         21.0  \n",
       "1               6     -25.5317      -49.1761             4         43.0  "
      ]
     },
     "execution_count": 22,
     "metadata": {},
     "output_type": "execute_result"
    }
   ],
   "source": [
    "df_regional_flights.head(2)"
   ]
  },
  {
   "cell_type": "code",
   "execution_count": 11,
   "id": "1144cdae-5f25-45b5-89a5-5936f41c4876",
   "metadata": {},
   "outputs": [
    {
     "data": {
      "text/html": [
       "<div>\n",
       "<style scoped>\n",
       "    .dataframe tbody tr th:only-of-type {\n",
       "        vertical-align: middle;\n",
       "    }\n",
       "\n",
       "    .dataframe tbody tr th {\n",
       "        vertical-align: top;\n",
       "    }\n",
       "\n",
       "    .dataframe thead th {\n",
       "        text-align: right;\n",
       "    }\n",
       "</style>\n",
       "<table border=\"1\" class=\"dataframe\">\n",
       "  <thead>\n",
       "    <tr style=\"text-align: right;\">\n",
       "      <th></th>\n",
       "      <th>icao_origin</th>\n",
       "      <th>nr_aircraft_models</th>\n",
       "      <th>nr_routes</th>\n",
       "      <th>nr_flights</th>\n",
       "      <th>first_flight</th>\n",
       "      <th>last_flight</th>\n",
       "      <th>flight_dist_mean</th>\n",
       "      <th>flight_dist_median</th>\n",
       "      <th>seat_cap_mean</th>\n",
       "      <th>seat_cap_median</th>\n",
       "      <th>seat_cap_min</th>\n",
       "      <th>seat_cap_max</th>\n",
       "      <th>seat_sold_mean</th>\n",
       "      <th>seat_sold_median</th>\n",
       "    </tr>\n",
       "  </thead>\n",
       "  <tbody>\n",
       "    <tr>\n",
       "      <th>0</th>\n",
       "      <td>SBAA</td>\n",
       "      <td>1</td>\n",
       "      <td>3</td>\n",
       "      <td>9</td>\n",
       "      <td>2012</td>\n",
       "      <td>2015</td>\n",
       "      <td>134.82</td>\n",
       "      <td>83.0</td>\n",
       "      <td>9.00</td>\n",
       "      <td>9</td>\n",
       "      <td>9</td>\n",
       "      <td>9</td>\n",
       "      <td>4.68</td>\n",
       "      <td>5.0</td>\n",
       "    </tr>\n",
       "    <tr>\n",
       "      <th>1</th>\n",
       "      <td>SBAC</td>\n",
       "      <td>6</td>\n",
       "      <td>4</td>\n",
       "      <td>4</td>\n",
       "      <td>2020</td>\n",
       "      <td>2021</td>\n",
       "      <td>902.42</td>\n",
       "      <td>508.0</td>\n",
       "      <td>82.68</td>\n",
       "      <td>70</td>\n",
       "      <td>9</td>\n",
       "      <td>174</td>\n",
       "      <td>37.58</td>\n",
       "      <td>33.0</td>\n",
       "    </tr>\n",
       "    <tr>\n",
       "      <th>2</th>\n",
       "      <td>SBAE</td>\n",
       "      <td>15</td>\n",
       "      <td>9</td>\n",
       "      <td>98</td>\n",
       "      <td>2011</td>\n",
       "      <td>2021</td>\n",
       "      <td>224.89</td>\n",
       "      <td>220.0</td>\n",
       "      <td>89.68</td>\n",
       "      <td>70</td>\n",
       "      <td>0</td>\n",
       "      <td>180</td>\n",
       "      <td>58.49</td>\n",
       "      <td>58.0</td>\n",
       "    </tr>\n",
       "    <tr>\n",
       "      <th>3</th>\n",
       "      <td>SBAQ</td>\n",
       "      <td>5</td>\n",
       "      <td>2</td>\n",
       "      <td>7</td>\n",
       "      <td>2006</td>\n",
       "      <td>2020</td>\n",
       "      <td>169.94</td>\n",
       "      <td>169.0</td>\n",
       "      <td>69.63</td>\n",
       "      <td>70</td>\n",
       "      <td>45</td>\n",
       "      <td>168</td>\n",
       "      <td>40.76</td>\n",
       "      <td>40.0</td>\n",
       "    </tr>\n",
       "    <tr>\n",
       "      <th>4</th>\n",
       "      <td>SBAT</td>\n",
       "      <td>11</td>\n",
       "      <td>3</td>\n",
       "      <td>11</td>\n",
       "      <td>2007</td>\n",
       "      <td>2021</td>\n",
       "      <td>630.71</td>\n",
       "      <td>643.0</td>\n",
       "      <td>107.79</td>\n",
       "      <td>118</td>\n",
       "      <td>9</td>\n",
       "      <td>170</td>\n",
       "      <td>78.13</td>\n",
       "      <td>83.0</td>\n",
       "    </tr>\n",
       "    <tr>\n",
       "      <th>...</th>\n",
       "      <td>...</td>\n",
       "      <td>...</td>\n",
       "      <td>...</td>\n",
       "      <td>...</td>\n",
       "      <td>...</td>\n",
       "      <td>...</td>\n",
       "      <td>...</td>\n",
       "      <td>...</td>\n",
       "      <td>...</td>\n",
       "      <td>...</td>\n",
       "      <td>...</td>\n",
       "      <td>...</td>\n",
       "      <td>...</td>\n",
       "      <td>...</td>\n",
       "    </tr>\n",
       "    <tr>\n",
       "      <th>190</th>\n",
       "      <td>SWRD</td>\n",
       "      <td>6</td>\n",
       "      <td>4</td>\n",
       "      <td>16</td>\n",
       "      <td>2010</td>\n",
       "      <td>2014</td>\n",
       "      <td>418.98</td>\n",
       "      <td>182.0</td>\n",
       "      <td>74.50</td>\n",
       "      <td>70</td>\n",
       "      <td>0</td>\n",
       "      <td>118</td>\n",
       "      <td>54.70</td>\n",
       "      <td>55.0</td>\n",
       "    </tr>\n",
       "    <tr>\n",
       "      <th>191</th>\n",
       "      <td>SWSI</td>\n",
       "      <td>8</td>\n",
       "      <td>4</td>\n",
       "      <td>35</td>\n",
       "      <td>2007</td>\n",
       "      <td>2018</td>\n",
       "      <td>559.69</td>\n",
       "      <td>423.0</td>\n",
       "      <td>92.05</td>\n",
       "      <td>86</td>\n",
       "      <td>45</td>\n",
       "      <td>148</td>\n",
       "      <td>70.08</td>\n",
       "      <td>67.0</td>\n",
       "    </tr>\n",
       "    <tr>\n",
       "      <th>192</th>\n",
       "      <td>SWTP</td>\n",
       "      <td>1</td>\n",
       "      <td>2</td>\n",
       "      <td>4</td>\n",
       "      <td>2010</td>\n",
       "      <td>2014</td>\n",
       "      <td>261.85</td>\n",
       "      <td>219.0</td>\n",
       "      <td>45.03</td>\n",
       "      <td>45</td>\n",
       "      <td>0</td>\n",
       "      <td>47</td>\n",
       "      <td>24.61</td>\n",
       "      <td>26.0</td>\n",
       "    </tr>\n",
       "    <tr>\n",
       "      <th>193</th>\n",
       "      <td>SWTS</td>\n",
       "      <td>1</td>\n",
       "      <td>4</td>\n",
       "      <td>16</td>\n",
       "      <td>2019</td>\n",
       "      <td>2021</td>\n",
       "      <td>256.52</td>\n",
       "      <td>180.0</td>\n",
       "      <td>9.00</td>\n",
       "      <td>9</td>\n",
       "      <td>9</td>\n",
       "      <td>9</td>\n",
       "      <td>3.96</td>\n",
       "      <td>4.0</td>\n",
       "    </tr>\n",
       "    <tr>\n",
       "      <th>194</th>\n",
       "      <td>SWVC</td>\n",
       "      <td>1</td>\n",
       "      <td>2</td>\n",
       "      <td>2</td>\n",
       "      <td>2013</td>\n",
       "      <td>2014</td>\n",
       "      <td>238.60</td>\n",
       "      <td>307.0</td>\n",
       "      <td>9.00</td>\n",
       "      <td>9</td>\n",
       "      <td>9</td>\n",
       "      <td>9</td>\n",
       "      <td>5.10</td>\n",
       "      <td>5.0</td>\n",
       "    </tr>\n",
       "  </tbody>\n",
       "</table>\n",
       "<p>195 rows × 14 columns</p>\n",
       "</div>"
      ],
      "text/plain": [
       "    icao_origin  nr_aircraft_models  nr_routes  nr_flights  first_flight  \\\n",
       "0          SBAA                   1          3           9          2012   \n",
       "1          SBAC                   6          4           4          2020   \n",
       "2          SBAE                  15          9          98          2011   \n",
       "3          SBAQ                   5          2           7          2006   \n",
       "4          SBAT                  11          3          11          2007   \n",
       "..          ...                 ...        ...         ...           ...   \n",
       "190        SWRD                   6          4          16          2010   \n",
       "191        SWSI                   8          4          35          2007   \n",
       "192        SWTP                   1          2           4          2010   \n",
       "193        SWTS                   1          4          16          2019   \n",
       "194        SWVC                   1          2           2          2013   \n",
       "\n",
       "     last_flight  flight_dist_mean  flight_dist_median  seat_cap_mean  \\\n",
       "0           2015            134.82                83.0           9.00   \n",
       "1           2021            902.42               508.0          82.68   \n",
       "2           2021            224.89               220.0          89.68   \n",
       "3           2020            169.94               169.0          69.63   \n",
       "4           2021            630.71               643.0         107.79   \n",
       "..           ...               ...                 ...            ...   \n",
       "190         2014            418.98               182.0          74.50   \n",
       "191         2018            559.69               423.0          92.05   \n",
       "192         2014            261.85               219.0          45.03   \n",
       "193         2021            256.52               180.0           9.00   \n",
       "194         2014            238.60               307.0           9.00   \n",
       "\n",
       "     seat_cap_median  seat_cap_min  seat_cap_max  seat_sold_mean  \\\n",
       "0                  9             9             9            4.68   \n",
       "1                 70             9           174           37.58   \n",
       "2                 70             0           180           58.49   \n",
       "3                 70            45           168           40.76   \n",
       "4                118             9           170           78.13   \n",
       "..               ...           ...           ...             ...   \n",
       "190               70             0           118           54.70   \n",
       "191               86            45           148           70.08   \n",
       "192               45             0            47           24.61   \n",
       "193                9             9             9            3.96   \n",
       "194                9             9             9            5.10   \n",
       "\n",
       "     seat_sold_median  \n",
       "0                 5.0  \n",
       "1                33.0  \n",
       "2                58.0  \n",
       "3                40.0  \n",
       "4                83.0  \n",
       "..                ...  \n",
       "190              55.0  \n",
       "191              67.0  \n",
       "192              26.0  \n",
       "193               4.0  \n",
       "194               5.0  \n",
       "\n",
       "[195 rows x 14 columns]"
      ]
     },
     "execution_count": 11,
     "metadata": {},
     "output_type": "execute_result"
    }
   ],
   "source": [
    "df_regional_flights.groupby('icao_origin').agg(\n",
    "    nr_aircraft_models=('aircraft_model',lambda x: x.nunique()),\n",
    "    nr_routes=('route_icao',lambda x: x.nunique()),\n",
    "    nr_flights=('flight_unique_nr',lambda x: x.nunique()),\n",
    "    first_flight=('dep_year','min'),\n",
    "    last_flight=('dep_year','max'),\n",
    "    flight_dist_mean=('flight_distance_km','mean'),\n",
    "    flight_dist_median=('flight_distance_km','median'),\n",
    "    seat_cap_mean=('seats_available','mean'),\n",
    "    seat_cap_median=('seats_available','median'),\n",
    "    seat_cap_min=('seats_available','min'),\n",
    "    seat_cap_max=('seats_available','max'),\n",
    "    seat_sold_mean=('seats_sold','mean'),\n",
    "    seat_sold_median=('seats_sold','median'),\n",
    ").round(2).reset_index()"
   ]
  },
  {
   "cell_type": "code",
   "execution_count": 12,
   "id": "befe9ca2-b19c-4d17-ab10-0b5e0de387ca",
   "metadata": {},
   "outputs": [],
   "source": [
    "teste = df_regional_flights.groupby('cluster_origin').agg(\n",
    "    nr_airports=('icao_origin',lambda x: x.nunique()),\n",
    ").reset_index()"
   ]
  },
  {
   "cell_type": "code",
   "execution_count": 13,
   "id": "76356ed3-af29-456b-8ca1-3ed422a72ac0",
   "metadata": {},
   "outputs": [
    {
     "data": {
      "text/html": [
       "<div>\n",
       "<style scoped>\n",
       "    .dataframe tbody tr th:only-of-type {\n",
       "        vertical-align: middle;\n",
       "    }\n",
       "\n",
       "    .dataframe tbody tr th {\n",
       "        vertical-align: top;\n",
       "    }\n",
       "\n",
       "    .dataframe thead th {\n",
       "        text-align: right;\n",
       "    }\n",
       "</style>\n",
       "<table border=\"1\" class=\"dataframe\">\n",
       "  <thead>\n",
       "    <tr style=\"text-align: right;\">\n",
       "      <th></th>\n",
       "      <th>cluster_origin</th>\n",
       "      <th>nr_airports</th>\n",
       "    </tr>\n",
       "  </thead>\n",
       "  <tbody>\n",
       "    <tr>\n",
       "      <th>0</th>\n",
       "      <td>4</td>\n",
       "      <td>2</td>\n",
       "    </tr>\n",
       "    <tr>\n",
       "      <th>1</th>\n",
       "      <td>5</td>\n",
       "      <td>2</td>\n",
       "    </tr>\n",
       "    <tr>\n",
       "      <th>2</th>\n",
       "      <td>6</td>\n",
       "      <td>12</td>\n",
       "    </tr>\n",
       "    <tr>\n",
       "      <th>3</th>\n",
       "      <td>7</td>\n",
       "      <td>16</td>\n",
       "    </tr>\n",
       "    <tr>\n",
       "      <th>4</th>\n",
       "      <td>8</td>\n",
       "      <td>163</td>\n",
       "    </tr>\n",
       "  </tbody>\n",
       "</table>\n",
       "</div>"
      ],
      "text/plain": [
       "   cluster_origin  nr_airports\n",
       "0               4            2\n",
       "1               5            2\n",
       "2               6           12\n",
       "3               7           16\n",
       "4               8          163"
      ]
     },
     "execution_count": 13,
     "metadata": {},
     "output_type": "execute_result"
    }
   ],
   "source": [
    "teste"
   ]
  },
  {
   "cell_type": "code",
   "execution_count": 14,
   "id": "f3d6107b-4854-4451-9725-2de5d7e42b73",
   "metadata": {},
   "outputs": [],
   "source": [
    "percentage = round((teste['nr_airports'] / teste['nr_airports'].sum()) * 100, 2)"
   ]
  },
  {
   "cell_type": "code",
   "execution_count": 15,
   "id": "ee9743fc-76bc-4d39-ab24-32a0afe0c5fd",
   "metadata": {},
   "outputs": [],
   "source": [
    "teste.insert(loc=2, column='percentage', value=percentage)"
   ]
  },
  {
   "cell_type": "code",
   "execution_count": 16,
   "id": "30d92cc9-87fa-4882-a93e-8d8a4ba1593d",
   "metadata": {},
   "outputs": [
    {
     "data": {
      "text/html": [
       "<div>\n",
       "<style scoped>\n",
       "    .dataframe tbody tr th:only-of-type {\n",
       "        vertical-align: middle;\n",
       "    }\n",
       "\n",
       "    .dataframe tbody tr th {\n",
       "        vertical-align: top;\n",
       "    }\n",
       "\n",
       "    .dataframe thead th {\n",
       "        text-align: right;\n",
       "    }\n",
       "</style>\n",
       "<table border=\"1\" class=\"dataframe\">\n",
       "  <thead>\n",
       "    <tr style=\"text-align: right;\">\n",
       "      <th></th>\n",
       "      <th>cluster_origin</th>\n",
       "      <th>nr_airports</th>\n",
       "      <th>percentage</th>\n",
       "    </tr>\n",
       "  </thead>\n",
       "  <tbody>\n",
       "    <tr>\n",
       "      <th>0</th>\n",
       "      <td>4</td>\n",
       "      <td>2</td>\n",
       "      <td>1.03</td>\n",
       "    </tr>\n",
       "    <tr>\n",
       "      <th>1</th>\n",
       "      <td>5</td>\n",
       "      <td>2</td>\n",
       "      <td>1.03</td>\n",
       "    </tr>\n",
       "    <tr>\n",
       "      <th>2</th>\n",
       "      <td>6</td>\n",
       "      <td>12</td>\n",
       "      <td>6.15</td>\n",
       "    </tr>\n",
       "    <tr>\n",
       "      <th>3</th>\n",
       "      <td>7</td>\n",
       "      <td>16</td>\n",
       "      <td>8.21</td>\n",
       "    </tr>\n",
       "    <tr>\n",
       "      <th>4</th>\n",
       "      <td>8</td>\n",
       "      <td>163</td>\n",
       "      <td>83.59</td>\n",
       "    </tr>\n",
       "  </tbody>\n",
       "</table>\n",
       "</div>"
      ],
      "text/plain": [
       "   cluster_origin  nr_airports  percentage\n",
       "0               4            2        1.03\n",
       "1               5            2        1.03\n",
       "2               6           12        6.15\n",
       "3               7           16        8.21\n",
       "4               8          163       83.59"
      ]
     },
     "execution_count": 16,
     "metadata": {},
     "output_type": "execute_result"
    }
   ],
   "source": [
    "teste"
   ]
  },
  {
   "cell_type": "code",
   "execution_count": null,
   "id": "6e13b3a1-2e85-49c0-8015-840f6ae508eb",
   "metadata": {},
   "outputs": [],
   "source": []
  },
  {
   "cell_type": "code",
   "execution_count": 17,
   "id": "7fb6fb79-ac7e-4b19-8497-68e6fae45fec",
   "metadata": {},
   "outputs": [],
   "source": [
    "df_regional_flights_2021 = df_regional_flights[df_regional_flights.sched_year == 2021]"
   ]
  },
  {
   "cell_type": "code",
   "execution_count": 18,
   "id": "a64cfdbd-9ebf-4075-921a-502616896e53",
   "metadata": {},
   "outputs": [
    {
     "data": {
      "text/plain": [
       "<AxesSubplot:xlabel='icao_carrier', ylabel='seats_sold'>"
      ]
     },
     "execution_count": 18,
     "metadata": {},
     "output_type": "execute_result"
    },
    {
     "data": {
      "image/png": "[encoded data removed]",
      "text/plain": [
       "<Figure size 864x576 with 2 Axes>"
      ]
     },
     "metadata": {
      "image/png": {
       "height": 479,
       "width": 724
      },
      "needs_background": "light"
     },
     "output_type": "display_data"
    }
   ],
   "source": [
    "fig, ax = plt.subplots(1, 2, figsize=(12, 8))\n",
    "\n",
    "sns.boxplot(x='icao_carrier', y='seats_available', data=df_regional_flights_2021, ax=ax[0], palette='RdBu_r')\n",
    "sns.boxplot(x='icao_carrier', y='seats_sold', data=df_regional_flights_2021, ax=ax[1], palette='RdBu_r')"
   ]
  },
  {
   "cell_type": "code",
   "execution_count": null,
   "id": "d6934404-db34-4ee9-94cc-c76e582a7f26",
   "metadata": {},
   "outputs": [],
   "source": []
  },
  {
   "cell_type": "code",
   "execution_count": null,
   "id": "6858a17f-0117-4ff7-8e1c-a30fab50d70d",
   "metadata": {},
   "outputs": [],
   "source": []
  },
  {
   "cell_type": "code",
   "execution_count": null,
   "id": "d0ae11fe-36d1-4540-9be6-d1965c57c00f",
   "metadata": {},
   "outputs": [],
   "source": []
  },
  {
   "cell_type": "markdown",
   "id": "2eec0aec-41dd-46b2-82e8-d7642363f81c",
   "metadata": {},
   "source": [
    "O q nós tínhamos combinado p a conclusão, além daqueles pontos q você anotou, era preciso antes fazer uma tabela referente ao início do período estudado (talvez a média dos primeiros cinco anos, ou pegar um único ano, o primeiro por exemplo) e compará-la com o final do período estudado (a média dos últimos 5 anos, ou pegar o ano de 2019, p exemplo) e comparar os seguintes itens: número de passageiros, número de voos, número de rotas, número de aeroportos, separando as informações entre aeroportos regionais e não regionais.\n",
    "\n",
    "Assim a conclusão seria: comparando 2005 com 2020, o número de aeroportos regionais passou de x para y. O número de rotas saindo de aeroportos regionais passou de x em 2005 para y em 2020, etc.\n",
    "\n",
    "Com essa comparação, você poderá chegar à conclusão se os aeroportos regionais aumentaram ou diminuíram ao longo desses 20 anos, em termos de passageiros, rotas, voos, número de aeroportos.\n"
   ]
  },
  {
   "cell_type": "code",
   "execution_count": null,
   "id": "01b362dd-03fc-4bfb-913c-fd301ee67ba6",
   "metadata": {},
   "outputs": [],
   "source": [
    "airports_total"
   ]
  },
  {
   "cell_type": "code",
   "execution_count": 26,
   "id": "5c68d322-7c70-4f51-bb3d-88a0a7eb6c87",
   "metadata": {},
   "outputs": [],
   "source": [
    "test = df_regional_flights.groupby('sched_year').agg(\n",
    "    nr_airports=('icao_origin',lambda x: x.nunique()),\n",
    "    nr_routes=('route_icao',lambda x: x.nunique()),\n",
    "    nr_flights=('flight_unique_nr',lambda x: x.nunique()),\n",
    "    nr_pax=('seats_total','sum'),\n",
    ").round(2).reset_index()"
   ]
  },
  {
   "cell_type": "code",
   "execution_count": 27,
   "id": "138dda30-ba7f-4550-b3b5-74812cce058a",
   "metadata": {},
   "outputs": [
    {
     "data": {
      "text/html": [
       "<div>\n",
       "<style scoped>\n",
       "    .dataframe tbody tr th:only-of-type {\n",
       "        vertical-align: middle;\n",
       "    }\n",
       "\n",
       "    .dataframe tbody tr th {\n",
       "        vertical-align: top;\n",
       "    }\n",
       "\n",
       "    .dataframe thead th {\n",
       "        text-align: right;\n",
       "    }\n",
       "</style>\n",
       "<table border=\"1\" class=\"dataframe\">\n",
       "  <thead>\n",
       "    <tr style=\"text-align: right;\">\n",
       "      <th></th>\n",
       "      <th>sched_year</th>\n",
       "      <th>nr_airports</th>\n",
       "      <th>nr_routes</th>\n",
       "      <th>nr_flights</th>\n",
       "      <th>nr_pax</th>\n",
       "    </tr>\n",
       "  </thead>\n",
       "  <tbody>\n",
       "    <tr>\n",
       "      <th>0</th>\n",
       "      <td>2002</td>\n",
       "      <td>39</td>\n",
       "      <td>115</td>\n",
       "      <td>261</td>\n",
       "      <td>577808.0</td>\n",
       "    </tr>\n",
       "    <tr>\n",
       "      <th>1</th>\n",
       "      <td>2003</td>\n",
       "      <td>38</td>\n",
       "      <td>130</td>\n",
       "      <td>355</td>\n",
       "      <td>1858335.0</td>\n",
       "    </tr>\n",
       "    <tr>\n",
       "      <th>2</th>\n",
       "      <td>2004</td>\n",
       "      <td>30</td>\n",
       "      <td>110</td>\n",
       "      <td>360</td>\n",
       "      <td>2197952.0</td>\n",
       "    </tr>\n",
       "    <tr>\n",
       "      <th>3</th>\n",
       "      <td>2005</td>\n",
       "      <td>23</td>\n",
       "      <td>74</td>\n",
       "      <td>181</td>\n",
       "      <td>2010705.0</td>\n",
       "    </tr>\n",
       "    <tr>\n",
       "      <th>4</th>\n",
       "      <td>2006</td>\n",
       "      <td>30</td>\n",
       "      <td>89</td>\n",
       "      <td>218</td>\n",
       "      <td>1555317.0</td>\n",
       "    </tr>\n",
       "    <tr>\n",
       "      <th>5</th>\n",
       "      <td>2007</td>\n",
       "      <td>34</td>\n",
       "      <td>101</td>\n",
       "      <td>199</td>\n",
       "      <td>1421413.0</td>\n",
       "    </tr>\n",
       "    <tr>\n",
       "      <th>6</th>\n",
       "      <td>2008</td>\n",
       "      <td>26</td>\n",
       "      <td>75</td>\n",
       "      <td>152</td>\n",
       "      <td>1899226.0</td>\n",
       "    </tr>\n",
       "    <tr>\n",
       "      <th>7</th>\n",
       "      <td>2009</td>\n",
       "      <td>24</td>\n",
       "      <td>77</td>\n",
       "      <td>218</td>\n",
       "      <td>2747301.0</td>\n",
       "    </tr>\n",
       "    <tr>\n",
       "      <th>8</th>\n",
       "      <td>2010</td>\n",
       "      <td>75</td>\n",
       "      <td>240</td>\n",
       "      <td>527</td>\n",
       "      <td>3505560.0</td>\n",
       "    </tr>\n",
       "    <tr>\n",
       "      <th>9</th>\n",
       "      <td>2011</td>\n",
       "      <td>91</td>\n",
       "      <td>312</td>\n",
       "      <td>726</td>\n",
       "      <td>5093080.0</td>\n",
       "    </tr>\n",
       "    <tr>\n",
       "      <th>10</th>\n",
       "      <td>2012</td>\n",
       "      <td>59</td>\n",
       "      <td>165</td>\n",
       "      <td>515</td>\n",
       "      <td>4829528.0</td>\n",
       "    </tr>\n",
       "    <tr>\n",
       "      <th>11</th>\n",
       "      <td>2013</td>\n",
       "      <td>99</td>\n",
       "      <td>314</td>\n",
       "      <td>1252</td>\n",
       "      <td>6712074.0</td>\n",
       "    </tr>\n",
       "    <tr>\n",
       "      <th>12</th>\n",
       "      <td>2014</td>\n",
       "      <td>88</td>\n",
       "      <td>286</td>\n",
       "      <td>884</td>\n",
       "      <td>8296854.0</td>\n",
       "    </tr>\n",
       "    <tr>\n",
       "      <th>13</th>\n",
       "      <td>2015</td>\n",
       "      <td>86</td>\n",
       "      <td>307</td>\n",
       "      <td>1023</td>\n",
       "      <td>8351616.0</td>\n",
       "    </tr>\n",
       "    <tr>\n",
       "      <th>14</th>\n",
       "      <td>2016</td>\n",
       "      <td>81</td>\n",
       "      <td>256</td>\n",
       "      <td>1047</td>\n",
       "      <td>6755776.0</td>\n",
       "    </tr>\n",
       "    <tr>\n",
       "      <th>15</th>\n",
       "      <td>2017</td>\n",
       "      <td>79</td>\n",
       "      <td>250</td>\n",
       "      <td>948</td>\n",
       "      <td>6809095.0</td>\n",
       "    </tr>\n",
       "    <tr>\n",
       "      <th>16</th>\n",
       "      <td>2018</td>\n",
       "      <td>100</td>\n",
       "      <td>365</td>\n",
       "      <td>1233</td>\n",
       "      <td>8465175.0</td>\n",
       "    </tr>\n",
       "    <tr>\n",
       "      <th>17</th>\n",
       "      <td>2019</td>\n",
       "      <td>125</td>\n",
       "      <td>373</td>\n",
       "      <td>991</td>\n",
       "      <td>9048620.0</td>\n",
       "    </tr>\n",
       "    <tr>\n",
       "      <th>18</th>\n",
       "      <td>2020</td>\n",
       "      <td>137</td>\n",
       "      <td>385</td>\n",
       "      <td>1244</td>\n",
       "      <td>3884089.0</td>\n",
       "    </tr>\n",
       "    <tr>\n",
       "      <th>19</th>\n",
       "      <td>2021</td>\n",
       "      <td>106</td>\n",
       "      <td>292</td>\n",
       "      <td>834</td>\n",
       "      <td>3203551.0</td>\n",
       "    </tr>\n",
       "  </tbody>\n",
       "</table>\n",
       "</div>"
      ],
      "text/plain": [
       "    sched_year  nr_airports  nr_routes  nr_flights     nr_pax\n",
       "0         2002           39        115         261   577808.0\n",
       "1         2003           38        130         355  1858335.0\n",
       "2         2004           30        110         360  2197952.0\n",
       "3         2005           23         74         181  2010705.0\n",
       "4         2006           30         89         218  1555317.0\n",
       "5         2007           34        101         199  1421413.0\n",
       "6         2008           26         75         152  1899226.0\n",
       "7         2009           24         77         218  2747301.0\n",
       "8         2010           75        240         527  3505560.0\n",
       "9         2011           91        312         726  5093080.0\n",
       "10        2012           59        165         515  4829528.0\n",
       "11        2013           99        314        1252  6712074.0\n",
       "12        2014           88        286         884  8296854.0\n",
       "13        2015           86        307        1023  8351616.0\n",
       "14        2016           81        256        1047  6755776.0\n",
       "15        2017           79        250         948  6809095.0\n",
       "16        2018          100        365        1233  8465175.0\n",
       "17        2019          125        373         991  9048620.0\n",
       "18        2020          137        385        1244  3884089.0\n",
       "19        2021          106        292         834  3203551.0"
      ]
     },
     "execution_count": 27,
     "metadata": {},
     "output_type": "execute_result"
    }
   ],
   "source": [
    "test"
   ]
  },
  {
   "cell_type": "code",
   "execution_count": 36,
   "id": "28cb3458-8fd0-46e0-a1dd-32fedbdc7a72",
   "metadata": {},
   "outputs": [],
   "source": [
    "test.to_csv('./assets/csv/tableau/final.csv', sep=',')"
   ]
  },
  {
   "cell_type": "code",
   "execution_count": 35,
   "id": "f66e2848-f3fc-41e8-9dcd-98cbbdaf8cab",
   "metadata": {},
   "outputs": [
    {
     "data": {
      "application/vnd.plotly.v1+json": {
       "config": {
        "plotlyServerURL": "https://plot.ly"
       },
       "data": [
        {
         "hovertemplate": "sched_year=%{x}<br>nr_airports=%{y}<extra></extra>",
         "legendgroup": "",
         "line": {
          "color": "#636efa",
          "dash": "solid"
         },
         "marker": {
          "symbol": "circle"
         },
         "mode": "lines",
         "name": "",
         "orientation": "v",
         "showlegend": false,
         "type": "scatter",
         "x": [
          2002,
          2003,
          2004,
          2005,
          2006,
          2007,
          2008,
          2009,
          2010,
          2011,
          2012,
          2013,
          2014,
          2015,
          2016,
          2017,
          2018,
          2019,
          2020,
          2021
         ],
         "xaxis": "x",
         "y": [
          39,
          38,
          30,
          23,
          30,
          34,
          26,
          24,
          75,
          91,
          59,
          99,
          88,
          86,
          81,
          79,
          100,
          125,
          137,
          106
         ],
         "yaxis": "y"
        }
       ],
       "layout": {
        "autosize": false,
        "height": 500,
        "legend": {
         "tracegroupgap": 0
        },
        "margin": {
         "t": 60
        },
        "template": {
         "data": {
          "bar": [
           {
            "error_x": {
             "color": "#2a3f5f"
            },
            "error_y": {
             "color": "#2a3f5f"
            },
            "marker": {
             "line": {
              "color": "#E5ECF6",
              "width": 0.5
             },
             "pattern": {
              "fillmode": "overlay",
              "size": 10,
              "solidity": 0.2
             }
            },
            "type": "bar"
           }
          ],
          "barpolar": [
           {
            "marker": {
             "line": {
              "color": "#E5ECF6",
              "width": 0.5
             },
             "pattern": {
              "fillmode": "overlay",
              "size": 10,
              "solidity": 0.2
             }
            },
            "type": "barpolar"
           }
          ],
          "carpet": [
           {
            "aaxis": {
             "endlinecolor": "#2a3f5f",
             "gridcolor": "white",
             "linecolor": "white",
             "minorgridcolor": "white",
             "startlinecolor": "#2a3f5f"
            },
            "baxis": {
             "endlinecolor": "#2a3f5f",
             "gridcolor": "white",
             "linecolor": "white",
             "minorgridcolor": "white",
             "startlinecolor": "#2a3f5f"
            },
            "type": "carpet"
           }
          ],
          "choropleth": [
           {
            "colorbar": {
             "outlinewidth": 0,
             "ticks": ""
            },
            "type": "choropleth"
           }
          ],
          "contour": [
           {
            "colorbar": {
             "outlinewidth": 0,
             "ticks": ""
            },
            "colorscale": [
             [
              0,
              "#0d0887"
             ],
             [
              0.1111111111111111,
              "#46039f"
             ],
             [
              0.2222222222222222,
              "#7201a8"
             ],
             [
              0.3333333333333333,
              "#9c179e"
             ],
             [
              0.4444444444444444,
              "#bd3786"
             ],
             [
              0.5555555555555556,
              "#d8576b"
             ],
             [
              0.6666666666666666,
              "#ed7953"
             ],
             [
              0.7777777777777778,
              "#fb9f3a"
             ],
             [
              0.8888888888888888,
              "#fdca26"
             ],
             [
              1,
              "#f0f921"
             ]
            ],
            "type": "contour"
           }
          ],
          "contourcarpet": [
           {
            "colorbar": {
             "outlinewidth": 0,
             "ticks": ""
            },
            "type": "contourcarpet"
           }
          ],
          "heatmap": [
           {
            "colorbar": {
             "outlinewidth": 0,
             "ticks": ""
            },
            "colorscale": [
             [
              0,
              "#0d0887"
             ],
             [
              0.1111111111111111,
              "#46039f"
             ],
             [
              0.2222222222222222,
              "#7201a8"
             ],
             [
              0.3333333333333333,
              "#9c179e"
             ],
             [
              0.4444444444444444,
              "#bd3786"
             ],
             [
              0.5555555555555556,
              "#d8576b"
             ],
             [
              0.6666666666666666,
              "#ed7953"
             ],
             [
              0.7777777777777778,
              "#fb9f3a"
             ],
             [
              0.8888888888888888,
              "#fdca26"
             ],
             [
              1,
              "#f0f921"
             ]
            ],
            "type": "heatmap"
           }
          ],
          "heatmapgl": [
           {
            "colorbar": {
             "outlinewidth": 0,
             "ticks": ""
            },
            "colorscale": [
             [
              0,
              "#0d0887"
             ],
             [
              0.1111111111111111,
              "#46039f"
             ],
             [
              0.2222222222222222,
              "#7201a8"
             ],
             [
              0.3333333333333333,
              "#9c179e"
             ],
             [
              0.4444444444444444,
              "#bd3786"
             ],
             [
              0.5555555555555556,
              "#d8576b"
             ],
             [
              0.6666666666666666,
              "#ed7953"
             ],
             [
              0.7777777777777778,
              "#fb9f3a"
             ],
             [
              0.8888888888888888,
              "#fdca26"
             ],
             [
              1,
              "#f0f921"
             ]
            ],
            "type": "heatmapgl"
           }
          ],
          "histogram": [
           {
            "marker": {
             "pattern": {
              "fillmode": "overlay",
              "size": 10,
              "solidity": 0.2
             }
            },
            "type": "histogram"
           }
          ],
          "histogram2d": [
           {
            "colorbar": {
             "outlinewidth": 0,
             "ticks": ""
            },
            "colorscale": [
             [
              0,
              "#0d0887"
             ],
             [
              0.1111111111111111,
              "#46039f"
             ],
             [
              0.2222222222222222,
              "#7201a8"
             ],
             [
              0.3333333333333333,
              "#9c179e"
             ],
             [
              0.4444444444444444,
              "#bd3786"
             ],
             [
              0.5555555555555556,
              "#d8576b"
             ],
             [
              0.6666666666666666,
              "#ed7953"
             ],
             [
              0.7777777777777778,
              "#fb9f3a"
             ],
             [
              0.8888888888888888,
              "#fdca26"
             ],
             [
              1,
              "#f0f921"
             ]
            ],
            "type": "histogram2d"
           }
          ],
          "histogram2dcontour": [
           {
            "colorbar": {
             "outlinewidth": 0,
             "ticks": ""
            },
            "colorscale": [
             [
              0,
              "#0d0887"
             ],
             [
              0.1111111111111111,
              "#46039f"
             ],
             [
              0.2222222222222222,
              "#7201a8"
             ],
             [
              0.3333333333333333,
              "#9c179e"
             ],
             [
              0.4444444444444444,
              "#bd3786"
             ],
             [
              0.5555555555555556,
              "#d8576b"
             ],
             [
              0.6666666666666666,
              "#ed7953"
             ],
             [
              0.7777777777777778,
              "#fb9f3a"
             ],
             [
              0.8888888888888888,
              "#fdca26"
             ],
             [
              1,
              "#f0f921"
             ]
            ],
            "type": "histogram2dcontour"
           }
          ],
          "mesh3d": [
           {
            "colorbar": {
             "outlinewidth": 0,
             "ticks": ""
            },
            "type": "mesh3d"
           }
          ],
          "parcoords": [
           {
            "line": {
             "colorbar": {
              "outlinewidth": 0,
              "ticks": ""
             }
            },
            "type": "parcoords"
           }
          ],
          "pie": [
           {
            "automargin": true,
            "type": "pie"
           }
          ],
          "scatter": [
           {
            "marker": {
             "colorbar": {
              "outlinewidth": 0,
              "ticks": ""
             }
            },
            "type": "scatter"
           }
          ],
          "scatter3d": [
           {
            "line": {
             "colorbar": {
              "outlinewidth": 0,
              "ticks": ""
             }
            },
            "marker": {
             "colorbar": {
              "outlinewidth": 0,
              "ticks": ""
             }
            },
            "type": "scatter3d"
           }
          ],
          "scattercarpet": [
           {
            "marker": {
             "colorbar": {
              "outlinewidth": 0,
              "ticks": ""
             }
            },
            "type": "scattercarpet"
           }
          ],
          "scattergeo": [
           {
            "marker": {
             "colorbar": {
              "outlinewidth": 0,
              "ticks": ""
             }
            },
            "type": "scattergeo"
           }
          ],
          "scattergl": [
           {
            "marker": {
             "colorbar": {
              "outlinewidth": 0,
              "ticks": ""
             }
            },
            "type": "scattergl"
           }
          ],
          "scattermapbox": [
           {
            "marker": {
             "colorbar": {
              "outlinewidth": 0,
              "ticks": ""
             }
            },
            "type": "scattermapbox"
           }
          ],
          "scatterpolar": [
           {
            "marker": {
             "colorbar": {
              "outlinewidth": 0,
              "ticks": ""
             }
            },
            "type": "scatterpolar"
           }
          ],
          "scatterpolargl": [
           {
            "marker": {
             "colorbar": {
              "outlinewidth": 0,
              "ticks": ""
             }
            },
            "type": "scatterpolargl"
           }
          ],
          "scatterternary": [
           {
            "marker": {
             "colorbar": {
              "outlinewidth": 0,
              "ticks": ""
             }
            },
            "type": "scatterternary"
           }
          ],
          "surface": [
           {
            "colorbar": {
             "outlinewidth": 0,
             "ticks": ""
            },
            "colorscale": [
             [
              0,
              "#0d0887"
             ],
             [
              0.1111111111111111,
              "#46039f"
             ],
             [
              0.2222222222222222,
              "#7201a8"
             ],
             [
              0.3333333333333333,
              "#9c179e"
             ],
             [
              0.4444444444444444,
              "#bd3786"
             ],
             [
              0.5555555555555556,
              "#d8576b"
             ],
             [
              0.6666666666666666,
              "#ed7953"
             ],
             [
              0.7777777777777778,
              "#fb9f3a"
             ],
             [
              0.8888888888888888,
              "#fdca26"
             ],
             [
              1,
              "#f0f921"
             ]
            ],
            "type": "surface"
           }
          ],
          "table": [
           {
            "cells": {
             "fill": {
              "color": "#EBF0F8"
             },
             "line": {
              "color": "white"
             }
            },
            "header": {
             "fill": {
              "color": "#C8D4E3"
             },
             "line": {
              "color": "white"
             }
            },
            "type": "table"
           }
          ]
         },
         "layout": {
          "annotationdefaults": {
           "arrowcolor": "#2a3f5f",
           "arrowhead": 0,
           "arrowwidth": 1
          },
          "autotypenumbers": "strict",
          "coloraxis": {
           "colorbar": {
            "outlinewidth": 0,
            "ticks": ""
           }
          },
          "colorscale": {
           "diverging": [
            [
             0,
             "#8e0152"
            ],
            [
             0.1,
             "#c51b7d"
            ],
            [
             0.2,
             "#de77ae"
            ],
            [
             0.3,
             "#f1b6da"
            ],
            [
             0.4,
             "#fde0ef"
            ],
            [
             0.5,
             "#f7f7f7"
            ],
            [
             0.6,
             "#e6f5d0"
            ],
            [
             0.7,
             "#b8e186"
            ],
            [
             0.8,
             "#7fbc41"
            ],
            [
             0.9,
             "#4d9221"
            ],
            [
             1,
             "#276419"
            ]
           ],
           "sequential": [
            [
             0,
             "#0d0887"
            ],
            [
             0.1111111111111111,
             "#46039f"
            ],
            [
             0.2222222222222222,
             "#7201a8"
            ],
            [
             0.3333333333333333,
             "#9c179e"
            ],
            [
             0.4444444444444444,
             "#bd3786"
            ],
            [
             0.5555555555555556,
             "#d8576b"
            ],
            [
             0.6666666666666666,
             "#ed7953"
            ],
            [
             0.7777777777777778,
             "#fb9f3a"
            ],
            [
             0.8888888888888888,
             "#fdca26"
            ],
            [
             1,
             "#f0f921"
            ]
           ],
           "sequentialminus": [
            [
             0,
             "#0d0887"
            ],
            [
             0.1111111111111111,
             "#46039f"
            ],
            [
             0.2222222222222222,
             "#7201a8"
            ],
            [
             0.3333333333333333,
             "#9c179e"
            ],
            [
             0.4444444444444444,
             "#bd3786"
            ],
            [
             0.5555555555555556,
             "#d8576b"
            ],
            [
             0.6666666666666666,
             "#ed7953"
            ],
            [
             0.7777777777777778,
             "#fb9f3a"
            ],
            [
             0.8888888888888888,
             "#fdca26"
            ],
            [
             1,
             "#f0f921"
            ]
           ]
          },
          "colorway": [
           "#636efa",
           "#EF553B",
           "#00cc96",
           "#ab63fa",
           "#FFA15A",
           "#19d3f3",
           "#FF6692",
           "#B6E880",
           "#FF97FF",
           "#FECB52"
          ],
          "font": {
           "color": "#2a3f5f"
          },
          "geo": {
           "bgcolor": "white",
           "lakecolor": "white",
           "landcolor": "#E5ECF6",
           "showlakes": true,
           "showland": true,
           "subunitcolor": "white"
          },
          "hoverlabel": {
           "align": "left"
          },
          "hovermode": "closest",
          "mapbox": {
           "style": "light"
          },
          "paper_bgcolor": "white",
          "plot_bgcolor": "#E5ECF6",
          "polar": {
           "angularaxis": {
            "gridcolor": "white",
            "linecolor": "white",
            "ticks": ""
           },
           "bgcolor": "#E5ECF6",
           "radialaxis": {
            "gridcolor": "white",
            "linecolor": "white",
            "ticks": ""
           }
          },
          "scene": {
           "xaxis": {
            "backgroundcolor": "#E5ECF6",
            "gridcolor": "white",
            "gridwidth": 2,
            "linecolor": "white",
            "showbackground": true,
            "ticks": "",
            "zerolinecolor": "white"
           },
           "yaxis": {
            "backgroundcolor": "#E5ECF6",
            "gridcolor": "white",
            "gridwidth": 2,
            "linecolor": "white",
            "showbackground": true,
            "ticks": "",
            "zerolinecolor": "white"
           },
           "zaxis": {
            "backgroundcolor": "#E5ECF6",
            "gridcolor": "white",
            "gridwidth": 2,
            "linecolor": "white",
            "showbackground": true,
            "ticks": "",
            "zerolinecolor": "white"
           }
          },
          "shapedefaults": {
           "line": {
            "color": "#2a3f5f"
           }
          },
          "ternary": {
           "aaxis": {
            "gridcolor": "white",
            "linecolor": "white",
            "ticks": ""
           },
           "baxis": {
            "gridcolor": "white",
            "linecolor": "white",
            "ticks": ""
           },
           "bgcolor": "#E5ECF6",
           "caxis": {
            "gridcolor": "white",
            "linecolor": "white",
            "ticks": ""
           }
          },
          "title": {
           "x": 0.05
          },
          "xaxis": {
           "automargin": true,
           "gridcolor": "white",
           "linecolor": "white",
           "ticks": "",
           "title": {
            "standoff": 15
           },
           "zerolinecolor": "white",
           "zerolinewidth": 2
          },
          "yaxis": {
           "automargin": true,
           "gridcolor": "white",
           "linecolor": "white",
           "ticks": "",
           "title": {
            "standoff": 15
           },
           "zerolinecolor": "white",
           "zerolinewidth": 2
          }
         }
        },
        "title": {
         "text": ""
        },
        "width": 600,
        "xaxis": {
         "anchor": "y",
         "autorange": true,
         "domain": [
          0,
          1
         ],
         "range": [
          2002,
          2021
         ],
         "tickangle": -45,
         "tickfont": {
          "size": 12
         },
         "tickmode": "linear",
         "title": {
          "text": ""
         },
         "type": "linear"
        },
        "yaxis": {
         "anchor": "x",
         "autorange": true,
         "domain": [
          0,
          1
         ],
         "range": [
          16.666666666666664,
          143.33333333333334
         ],
         "tickfont": {
          "size": 14
         },
         "title": {
          "font": {
           "size": 16
          },
          "text": ""
         },
         "type": "linear"
        }
       }
      },
      "image/png": "[encoded data removed]",
      "text/html": [
       "<div>                            <div id=\"d41a100a-dea2-4f38-8c5f-1060fcc75706\" class=\"plotly-graph-div\" style=\"height:500px; width:600px;\"></div>            <script type=\"text/javascript\">                require([\"plotly\"], function(Plotly) {                    window.PLOTLYENV=window.PLOTLYENV || {};                                    if (document.getElementById(\"d41a100a-dea2-4f38-8c5f-1060fcc75706\")) {                    Plotly.newPlot(                        \"d41a100a-dea2-4f38-8c5f-1060fcc75706\",                        [{\"hovertemplate\":\"sched_year=%{x}<br>nr_airports=%{y}<extra></extra>\",\"legendgroup\":\"\",\"line\":{\"color\":\"#636efa\",\"dash\":\"solid\"},\"marker\":{\"symbol\":\"circle\"},\"mode\":\"lines\",\"name\":\"\",\"orientation\":\"v\",\"showlegend\":false,\"type\":\"scatter\",\"x\":[2002,2003,2004,2005,2006,2007,2008,2009,2010,2011,2012,2013,2014,2015,2016,2017,2018,2019,2020,2021],\"xaxis\":\"x\",\"y\":[39,38,30,23,30,34,26,24,75,91,59,99,88,86,81,79,100,125,137,106],\"yaxis\":\"y\"}],                        {\"autosize\":false,\"height\":500,\"legend\":{\"tracegroupgap\":0},\"margin\":{\"t\":60},\"template\":{\"data\":{\"bar\":[{\"error_x\":{\"color\":\"#2a3f5f\"},\"error_y\":{\"color\":\"#2a3f5f\"},\"marker\":{\"line\":{\"color\":\"#E5ECF6\",\"width\":0.5},\"pattern\":{\"fillmode\":\"overlay\",\"size\":10,\"solidity\":0.2}},\"type\":\"bar\"}],\"barpolar\":[{\"marker\":{\"line\":{\"color\":\"#E5ECF6\",\"width\":0.5},\"pattern\":{\"fillmode\":\"overlay\",\"size\":10,\"solidity\":0.2}},\"type\":\"barpolar\"}],\"carpet\":[{\"aaxis\":{\"endlinecolor\":\"#2a3f5f\",\"gridcolor\":\"white\",\"linecolor\":\"white\",\"minorgridcolor\":\"white\",\"startlinecolor\":\"#2a3f5f\"},\"baxis\":{\"endlinecolor\":\"#2a3f5f\",\"gridcolor\":\"white\",\"linecolor\":\"white\",\"minorgridcolor\":\"white\",\"startlinecolor\":\"#2a3f5f\"},\"type\":\"carpet\"}],\"choropleth\":[{\"colorbar\":{\"outlinewidth\":0,\"ticks\":\"\"},\"type\":\"choropleth\"}],\"contour\":[{\"colorbar\":{\"outlinewidth\":0,\"ticks\":\"\"},\"colorscale\":[[0.0,\"#0d0887\"],[0.1111111111111111,\"#46039f\"],[0.2222222222222222,\"#7201a8\"],[0.3333333333333333,\"#9c179e\"],[0.4444444444444444,\"#bd3786\"],[0.5555555555555556,\"#d8576b\"],[0.6666666666666666,\"#ed7953\"],[0.7777777777777778,\"#fb9f3a\"],[0.8888888888888888,\"#fdca26\"],[1.0,\"#f0f921\"]],\"type\":\"contour\"}],\"contourcarpet\":[{\"colorbar\":{\"outlinewidth\":0,\"ticks\":\"\"},\"type\":\"contourcarpet\"}],\"heatmap\":[{\"colorbar\":{\"outlinewidth\":0,\"ticks\":\"\"},\"colorscale\":[[0.0,\"#0d0887\"],[0.1111111111111111,\"#46039f\"],[0.2222222222222222,\"#7201a8\"],[0.3333333333333333,\"#9c179e\"],[0.4444444444444444,\"#bd3786\"],[0.5555555555555556,\"#d8576b\"],[0.6666666666666666,\"#ed7953\"],[0.7777777777777778,\"#fb9f3a\"],[0.8888888888888888,\"#fdca26\"],[1.0,\"#f0f921\"]],\"type\":\"heatmap\"}],\"heatmapgl\":[{\"colorbar\":{\"outlinewidth\":0,\"ticks\":\"\"},\"colorscale\":[[0.0,\"#0d0887\"],[0.1111111111111111,\"#46039f\"],[0.2222222222222222,\"#7201a8\"],[0.3333333333333333,\"#9c179e\"],[0.4444444444444444,\"#bd3786\"],[0.5555555555555556,\"#d8576b\"],[0.6666666666666666,\"#ed7953\"],[0.7777777777777778,\"#fb9f3a\"],[0.8888888888888888,\"#fdca26\"],[1.0,\"#f0f921\"]],\"type\":\"heatmapgl\"}],\"histogram\":[{\"marker\":{\"pattern\":{\"fillmode\":\"overlay\",\"size\":10,\"solidity\":0.2}},\"type\":\"histogram\"}],\"histogram2d\":[{\"colorbar\":{\"outlinewidth\":0,\"ticks\":\"\"},\"colorscale\":[[0.0,\"#0d0887\"],[0.1111111111111111,\"#46039f\"],[0.2222222222222222,\"#7201a8\"],[0.3333333333333333,\"#9c179e\"],[0.4444444444444444,\"#bd3786\"],[0.5555555555555556,\"#d8576b\"],[0.6666666666666666,\"#ed7953\"],[0.7777777777777778,\"#fb9f3a\"],[0.8888888888888888,\"#fdca26\"],[1.0,\"#f0f921\"]],\"type\":\"histogram2d\"}],\"histogram2dcontour\":[{\"colorbar\":{\"outlinewidth\":0,\"ticks\":\"\"},\"colorscale\":[[0.0,\"#0d0887\"],[0.1111111111111111,\"#46039f\"],[0.2222222222222222,\"#7201a8\"],[0.3333333333333333,\"#9c179e\"],[0.4444444444444444,\"#bd3786\"],[0.5555555555555556,\"#d8576b\"],[0.6666666666666666,\"#ed7953\"],[0.7777777777777778,\"#fb9f3a\"],[0.8888888888888888,\"#fdca26\"],[1.0,\"#f0f921\"]],\"type\":\"histogram2dcontour\"}],\"mesh3d\":[{\"colorbar\":{\"outlinewidth\":0,\"ticks\":\"\"},\"type\":\"mesh3d\"}],\"parcoords\":[{\"line\":{\"colorbar\":{\"outlinewidth\":0,\"ticks\":\"\"}},\"type\":\"parcoords\"}],\"pie\":[{\"automargin\":true,\"type\":\"pie\"}],\"scatter\":[{\"marker\":{\"colorbar\":{\"outlinewidth\":0,\"ticks\":\"\"}},\"type\":\"scatter\"}],\"scatter3d\":[{\"line\":{\"colorbar\":{\"outlinewidth\":0,\"ticks\":\"\"}},\"marker\":{\"colorbar\":{\"outlinewidth\":0,\"ticks\":\"\"}},\"type\":\"scatter3d\"}],\"scattercarpet\":[{\"marker\":{\"colorbar\":{\"outlinewidth\":0,\"ticks\":\"\"}},\"type\":\"scattercarpet\"}],\"scattergeo\":[{\"marker\":{\"colorbar\":{\"outlinewidth\":0,\"ticks\":\"\"}},\"type\":\"scattergeo\"}],\"scattergl\":[{\"marker\":{\"colorbar\":{\"outlinewidth\":0,\"ticks\":\"\"}},\"type\":\"scattergl\"}],\"scattermapbox\":[{\"marker\":{\"colorbar\":{\"outlinewidth\":0,\"ticks\":\"\"}},\"type\":\"scattermapbox\"}],\"scatterpolar\":[{\"marker\":{\"colorbar\":{\"outlinewidth\":0,\"ticks\":\"\"}},\"type\":\"scatterpolar\"}],\"scatterpolargl\":[{\"marker\":{\"colorbar\":{\"outlinewidth\":0,\"ticks\":\"\"}},\"type\":\"scatterpolargl\"}],\"scatterternary\":[{\"marker\":{\"colorbar\":{\"outlinewidth\":0,\"ticks\":\"\"}},\"type\":\"scatterternary\"}],\"surface\":[{\"colorbar\":{\"outlinewidth\":0,\"ticks\":\"\"},\"colorscale\":[[0.0,\"#0d0887\"],[0.1111111111111111,\"#46039f\"],[0.2222222222222222,\"#7201a8\"],[0.3333333333333333,\"#9c179e\"],[0.4444444444444444,\"#bd3786\"],[0.5555555555555556,\"#d8576b\"],[0.6666666666666666,\"#ed7953\"],[0.7777777777777778,\"#fb9f3a\"],[0.8888888888888888,\"#fdca26\"],[1.0,\"#f0f921\"]],\"type\":\"surface\"}],\"table\":[{\"cells\":{\"fill\":{\"color\":\"#EBF0F8\"},\"line\":{\"color\":\"white\"}},\"header\":{\"fill\":{\"color\":\"#C8D4E3\"},\"line\":{\"color\":\"white\"}},\"type\":\"table\"}]},\"layout\":{\"annotationdefaults\":{\"arrowcolor\":\"#2a3f5f\",\"arrowhead\":0,\"arrowwidth\":1},\"autotypenumbers\":\"strict\",\"coloraxis\":{\"colorbar\":{\"outlinewidth\":0,\"ticks\":\"\"}},\"colorscale\":{\"diverging\":[[0,\"#8e0152\"],[0.1,\"#c51b7d\"],[0.2,\"#de77ae\"],[0.3,\"#f1b6da\"],[0.4,\"#fde0ef\"],[0.5,\"#f7f7f7\"],[0.6,\"#e6f5d0\"],[0.7,\"#b8e186\"],[0.8,\"#7fbc41\"],[0.9,\"#4d9221\"],[1,\"#276419\"]],\"sequential\":[[0.0,\"#0d0887\"],[0.1111111111111111,\"#46039f\"],[0.2222222222222222,\"#7201a8\"],[0.3333333333333333,\"#9c179e\"],[0.4444444444444444,\"#bd3786\"],[0.5555555555555556,\"#d8576b\"],[0.6666666666666666,\"#ed7953\"],[0.7777777777777778,\"#fb9f3a\"],[0.8888888888888888,\"#fdca26\"],[1.0,\"#f0f921\"]],\"sequentialminus\":[[0.0,\"#0d0887\"],[0.1111111111111111,\"#46039f\"],[0.2222222222222222,\"#7201a8\"],[0.3333333333333333,\"#9c179e\"],[0.4444444444444444,\"#bd3786\"],[0.5555555555555556,\"#d8576b\"],[0.6666666666666666,\"#ed7953\"],[0.7777777777777778,\"#fb9f3a\"],[0.8888888888888888,\"#fdca26\"],[1.0,\"#f0f921\"]]},\"colorway\":[\"#636efa\",\"#EF553B\",\"#00cc96\",\"#ab63fa\",\"#FFA15A\",\"#19d3f3\",\"#FF6692\",\"#B6E880\",\"#FF97FF\",\"#FECB52\"],\"font\":{\"color\":\"#2a3f5f\"},\"geo\":{\"bgcolor\":\"white\",\"lakecolor\":\"white\",\"landcolor\":\"#E5ECF6\",\"showlakes\":true,\"showland\":true,\"subunitcolor\":\"white\"},\"hoverlabel\":{\"align\":\"left\"},\"hovermode\":\"closest\",\"mapbox\":{\"style\":\"light\"},\"paper_bgcolor\":\"white\",\"plot_bgcolor\":\"#E5ECF6\",\"polar\":{\"angularaxis\":{\"gridcolor\":\"white\",\"linecolor\":\"white\",\"ticks\":\"\"},\"bgcolor\":\"#E5ECF6\",\"radialaxis\":{\"gridcolor\":\"white\",\"linecolor\":\"white\",\"ticks\":\"\"}},\"scene\":{\"xaxis\":{\"backgroundcolor\":\"#E5ECF6\",\"gridcolor\":\"white\",\"gridwidth\":2,\"linecolor\":\"white\",\"showbackground\":true,\"ticks\":\"\",\"zerolinecolor\":\"white\"},\"yaxis\":{\"backgroundcolor\":\"#E5ECF6\",\"gridcolor\":\"white\",\"gridwidth\":2,\"linecolor\":\"white\",\"showbackground\":true,\"ticks\":\"\",\"zerolinecolor\":\"white\"},\"zaxis\":{\"backgroundcolor\":\"#E5ECF6\",\"gridcolor\":\"white\",\"gridwidth\":2,\"linecolor\":\"white\",\"showbackground\":true,\"ticks\":\"\",\"zerolinecolor\":\"white\"}},\"shapedefaults\":{\"line\":{\"color\":\"#2a3f5f\"}},\"ternary\":{\"aaxis\":{\"gridcolor\":\"white\",\"linecolor\":\"white\",\"ticks\":\"\"},\"baxis\":{\"gridcolor\":\"white\",\"linecolor\":\"white\",\"ticks\":\"\"},\"bgcolor\":\"#E5ECF6\",\"caxis\":{\"gridcolor\":\"white\",\"linecolor\":\"white\",\"ticks\":\"\"}},\"title\":{\"x\":0.05},\"xaxis\":{\"automargin\":true,\"gridcolor\":\"white\",\"linecolor\":\"white\",\"ticks\":\"\",\"title\":{\"standoff\":15},\"zerolinecolor\":\"white\",\"zerolinewidth\":2},\"yaxis\":{\"automargin\":true,\"gridcolor\":\"white\",\"linecolor\":\"white\",\"ticks\":\"\",\"title\":{\"standoff\":15},\"zerolinecolor\":\"white\",\"zerolinewidth\":2}}},\"title\":{\"text\":\"\"},\"width\":600,\"xaxis\":{\"anchor\":\"y\",\"domain\":[0.0,1.0],\"tickangle\":-45,\"tickfont\":{\"size\":12},\"tickmode\":\"linear\",\"title\":{\"text\":\"\"}},\"yaxis\":{\"anchor\":\"x\",\"domain\":[0.0,1.0],\"tickfont\":{\"size\":14},\"title\":{\"font\":{\"size\":16},\"text\":\"\"}}},                        {\"responsive\": true}                    ).then(function(){\n",
       "                            \n",
       "var gd = document.getElementById('d41a100a-dea2-4f38-8c5f-1060fcc75706');\n",
       "var x = new MutationObserver(function (mutations, observer) {{\n",
       "        var display = window.getComputedStyle(gd).display;\n",
       "        if (!display || display === 'none') {{\n",
       "            console.log([gd, 'removed!']);\n",
       "            Plotly.purge(gd);\n",
       "            observer.disconnect();\n",
       "        }}\n",
       "}});\n",
       "\n",
       "// Listen for the removal of the full notebook cells\n",
       "var notebookContainer = gd.closest('#notebook-container');\n",
       "if (notebookContainer) {{\n",
       "    x.observe(notebookContainer, {childList: true});\n",
       "}}\n",
       "\n",
       "// Listen for the clearing of the current output cell\n",
       "var outputEl = gd.closest('.output');\n",
       "if (outputEl) {{\n",
       "    x.observe(outputEl, {childList: true});\n",
       "}}\n",
       "\n",
       "                        })                };                });            </script>        </div>"
      ]
     },
     "metadata": {},
     "output_type": "display_data"
    }
   ],
   "source": [
    "fig = px.line(test, x=\"sched_year\", y=\"nr_airports\")\n",
    "fig.update_layout(\n",
    "    title=\"\",\n",
    "    autosize=False,\n",
    "    width=600,\n",
    "    height=500,\n",
    "    xaxis=dict(title=\"\", tickmode=\"linear\", tickfont_size=12, tickangle=-45),\n",
    "    yaxis=dict(title=\"\", titlefont_size=16, tickfont_size=14),\n",
    ")\n",
    "# fig.write_html(\"./presentation/plots/bar_nr_airports.html\")\n",
    "fig.show()"
   ]
  },
  {
   "cell_type": "code",
   "execution_count": 37,
   "id": "4638a13e-0ade-4b68-af86-26dc207054da",
   "metadata": {},
   "outputs": [
    {
     "data": {
      "application/vnd.plotly.v1+json": {
       "config": {
        "plotlyServerURL": "https://plot.ly"
       },
       "data": [
        {
         "hovertemplate": "sched_year=%{x}<br>nr_routes=%{y}<extra></extra>",
         "legendgroup": "",
         "line": {
          "color": "#636efa",
          "dash": "solid"
         },
         "marker": {
          "symbol": "circle"
         },
         "mode": "lines",
         "name": "",
         "orientation": "v",
         "showlegend": false,
         "type": "scatter",
         "x": [
          2002,
          2003,
          2004,
          2005,
          2006,
          2007,
          2008,
          2009,
          2010,
          2011,
          2012,
          2013,
          2014,
          2015,
          2016,
          2017,
          2018,
          2019,
          2020,
          2021
         ],
         "xaxis": "x",
         "y": [
          115,
          130,
          110,
          74,
          89,
          101,
          75,
          77,
          240,
          312,
          165,
          314,
          286,
          307,
          256,
          250,
          365,
          373,
          385,
          292
         ],
         "yaxis": "y"
        }
       ],
       "layout": {
        "autosize": false,
        "height": 500,
        "legend": {
         "tracegroupgap": 0
        },
        "margin": {
         "t": 60
        },
        "template": {
         "data": {
          "bar": [
           {
            "error_x": {
             "color": "#2a3f5f"
            },
            "error_y": {
             "color": "#2a3f5f"
            },
            "marker": {
             "line": {
              "color": "#E5ECF6",
              "width": 0.5
             },
             "pattern": {
              "fillmode": "overlay",
              "size": 10,
              "solidity": 0.2
             }
            },
            "type": "bar"
           }
          ],
          "barpolar": [
           {
            "marker": {
             "line": {
              "color": "#E5ECF6",
              "width": 0.5
             },
             "pattern": {
              "fillmode": "overlay",
              "size": 10,
              "solidity": 0.2
             }
            },
            "type": "barpolar"
           }
          ],
          "carpet": [
           {
            "aaxis": {
             "endlinecolor": "#2a3f5f",
             "gridcolor": "white",
             "linecolor": "white",
             "minorgridcolor": "white",
             "startlinecolor": "#2a3f5f"
            },
            "baxis": {
             "endlinecolor": "#2a3f5f",
             "gridcolor": "white",
             "linecolor": "white",
             "minorgridcolor": "white",
             "startlinecolor": "#2a3f5f"
            },
            "type": "carpet"
           }
          ],
          "choropleth": [
           {
            "colorbar": {
             "outlinewidth": 0,
             "ticks": ""
            },
            "type": "choropleth"
           }
          ],
          "contour": [
           {
            "colorbar": {
             "outlinewidth": 0,
             "ticks": ""
            },
            "colorscale": [
             [
              0,
              "#0d0887"
             ],
             [
              0.1111111111111111,
              "#46039f"
             ],
             [
              0.2222222222222222,
              "#7201a8"
             ],
             [
              0.3333333333333333,
              "#9c179e"
             ],
             [
              0.4444444444444444,
              "#bd3786"
             ],
             [
              0.5555555555555556,
              "#d8576b"
             ],
             [
              0.6666666666666666,
              "#ed7953"
             ],
             [
              0.7777777777777778,
              "#fb9f3a"
             ],
             [
              0.8888888888888888,
              "#fdca26"
             ],
             [
              1,
              "#f0f921"
             ]
            ],
            "type": "contour"
           }
          ],
          "contourcarpet": [
           {
            "colorbar": {
             "outlinewidth": 0,
             "ticks": ""
            },
            "type": "contourcarpet"
           }
          ],
          "heatmap": [
           {
            "colorbar": {
             "outlinewidth": 0,
             "ticks": ""
            },
            "colorscale": [
             [
              0,
              "#0d0887"
             ],
             [
              0.1111111111111111,
              "#46039f"
             ],
             [
              0.2222222222222222,
              "#7201a8"
             ],
             [
              0.3333333333333333,
              "#9c179e"
             ],
             [
              0.4444444444444444,
              "#bd3786"
             ],
             [
              0.5555555555555556,
              "#d8576b"
             ],
             [
              0.6666666666666666,
              "#ed7953"
             ],
             [
              0.7777777777777778,
              "#fb9f3a"
             ],
             [
              0.8888888888888888,
              "#fdca26"
             ],
             [
              1,
              "#f0f921"
             ]
            ],
            "type": "heatmap"
           }
          ],
          "heatmapgl": [
           {
            "colorbar": {
             "outlinewidth": 0,
             "ticks": ""
            },
            "colorscale": [
             [
              0,
              "#0d0887"
             ],
             [
              0.1111111111111111,
              "#46039f"
             ],
             [
              0.2222222222222222,
              "#7201a8"
             ],
             [
              0.3333333333333333,
              "#9c179e"
             ],
             [
              0.4444444444444444,
              "#bd3786"
             ],
             [
              0.5555555555555556,
              "#d8576b"
             ],
             [
              0.6666666666666666,
              "#ed7953"
             ],
             [
              0.7777777777777778,
              "#fb9f3a"
             ],
             [
              0.8888888888888888,
              "#fdca26"
             ],
             [
              1,
              "#f0f921"
             ]
            ],
            "type": "heatmapgl"
           }
          ],
          "histogram": [
           {
            "marker": {
             "pattern": {
              "fillmode": "overlay",
              "size": 10,
              "solidity": 0.2
             }
            },
            "type": "histogram"
           }
          ],
          "histogram2d": [
           {
            "colorbar": {
             "outlinewidth": 0,
             "ticks": ""
            },
            "colorscale": [
             [
              0,
              "#0d0887"
             ],
             [
              0.1111111111111111,
              "#46039f"
             ],
             [
              0.2222222222222222,
              "#7201a8"
             ],
             [
              0.3333333333333333,
              "#9c179e"
             ],
             [
              0.4444444444444444,
              "#bd3786"
             ],
             [
              0.5555555555555556,
              "#d8576b"
             ],
             [
              0.6666666666666666,
              "#ed7953"
             ],
             [
              0.7777777777777778,
              "#fb9f3a"
             ],
             [
              0.8888888888888888,
              "#fdca26"
             ],
             [
              1,
              "#f0f921"
             ]
            ],
            "type": "histogram2d"
           }
          ],
          "histogram2dcontour": [
           {
            "colorbar": {
             "outlinewidth": 0,
             "ticks": ""
            },
            "colorscale": [
             [
              0,
              "#0d0887"
             ],
             [
              0.1111111111111111,
              "#46039f"
             ],
             [
              0.2222222222222222,
              "#7201a8"
             ],
             [
              0.3333333333333333,
              "#9c179e"
             ],
             [
              0.4444444444444444,
              "#bd3786"
             ],
             [
              0.5555555555555556,
              "#d8576b"
             ],
             [
              0.6666666666666666,
              "#ed7953"
             ],
             [
              0.7777777777777778,
              "#fb9f3a"
             ],
             [
              0.8888888888888888,
              "#fdca26"
             ],
             [
              1,
              "#f0f921"
             ]
            ],
            "type": "histogram2dcontour"
           }
          ],
          "mesh3d": [
           {
            "colorbar": {
             "outlinewidth": 0,
             "ticks": ""
            },
            "type": "mesh3d"
           }
          ],
          "parcoords": [
           {
            "line": {
             "colorbar": {
              "outlinewidth": 0,
              "ticks": ""
             }
            },
            "type": "parcoords"
           }
          ],
          "pie": [
           {
            "automargin": true,
            "type": "pie"
           }
          ],
          "scatter": [
           {
            "marker": {
             "colorbar": {
              "outlinewidth": 0,
              "ticks": ""
             }
            },
            "type": "scatter"
           }
          ],
          "scatter3d": [
           {
            "line": {
             "colorbar": {
              "outlinewidth": 0,
              "ticks": ""
             }
            },
            "marker": {
             "colorbar": {
              "outlinewidth": 0,
              "ticks": ""
             }
            },
            "type": "scatter3d"
           }
          ],
          "scattercarpet": [
           {
            "marker": {
             "colorbar": {
              "outlinewidth": 0,
              "ticks": ""
             }
            },
            "type": "scattercarpet"
           }
          ],
          "scattergeo": [
           {
            "marker": {
             "colorbar": {
              "outlinewidth": 0,
              "ticks": ""
             }
            },
            "type": "scattergeo"
           }
          ],
          "scattergl": [
           {
            "marker": {
             "colorbar": {
              "outlinewidth": 0,
              "ticks": ""
             }
            },
            "type": "scattergl"
           }
          ],
          "scattermapbox": [
           {
            "marker": {
             "colorbar": {
              "outlinewidth": 0,
              "ticks": ""
             }
            },
            "type": "scattermapbox"
           }
          ],
          "scatterpolar": [
           {
            "marker": {
             "colorbar": {
              "outlinewidth": 0,
              "ticks": ""
             }
            },
            "type": "scatterpolar"
           }
          ],
          "scatterpolargl": [
           {
            "marker": {
             "colorbar": {
              "outlinewidth": 0,
              "ticks": ""
             }
            },
            "type": "scatterpolargl"
           }
          ],
          "scatterternary": [
           {
            "marker": {
             "colorbar": {
              "outlinewidth": 0,
              "ticks": ""
             }
            },
            "type": "scatterternary"
           }
          ],
          "surface": [
           {
            "colorbar": {
             "outlinewidth": 0,
             "ticks": ""
            },
            "colorscale": [
             [
              0,
              "#0d0887"
             ],
             [
              0.1111111111111111,
              "#46039f"
             ],
             [
              0.2222222222222222,
              "#7201a8"
             ],
             [
              0.3333333333333333,
              "#9c179e"
             ],
             [
              0.4444444444444444,
              "#bd3786"
             ],
             [
              0.5555555555555556,
              "#d8576b"
             ],
             [
              0.6666666666666666,
              "#ed7953"
             ],
             [
              0.7777777777777778,
              "#fb9f3a"
             ],
             [
              0.8888888888888888,
              "#fdca26"
             ],
             [
              1,
              "#f0f921"
             ]
            ],
            "type": "surface"
           }
          ],
          "table": [
           {
            "cells": {
             "fill": {
              "color": "#EBF0F8"
             },
             "line": {
              "color": "white"
             }
            },
            "header": {
             "fill": {
              "color": "#C8D4E3"
             },
             "line": {
              "color": "white"
             }
            },
            "type": "table"
           }
          ]
         },
         "layout": {
          "annotationdefaults": {
           "arrowcolor": "#2a3f5f",
           "arrowhead": 0,
           "arrowwidth": 1
          },
          "autotypenumbers": "strict",
          "coloraxis": {
           "colorbar": {
            "outlinewidth": 0,
            "ticks": ""
           }
          },
          "colorscale": {
           "diverging": [
            [
             0,
             "#8e0152"
            ],
            [
             0.1,
             "#c51b7d"
            ],
            [
             0.2,
             "#de77ae"
            ],
            [
             0.3,
             "#f1b6da"
            ],
            [
             0.4,
             "#fde0ef"
            ],
            [
             0.5,
             "#f7f7f7"
            ],
            [
             0.6,
             "#e6f5d0"
            ],
            [
             0.7,
             "#b8e186"
            ],
            [
             0.8,
             "#7fbc41"
            ],
            [
             0.9,
             "#4d9221"
            ],
            [
             1,
             "#276419"
            ]
           ],
           "sequential": [
            [
             0,
             "#0d0887"
            ],
            [
             0.1111111111111111,
             "#46039f"
            ],
            [
             0.2222222222222222,
             "#7201a8"
            ],
            [
             0.3333333333333333,
             "#9c179e"
            ],
            [
             0.4444444444444444,
             "#bd3786"
            ],
            [
             0.5555555555555556,
             "#d8576b"
            ],
            [
             0.6666666666666666,
             "#ed7953"
            ],
            [
             0.7777777777777778,
             "#fb9f3a"
            ],
            [
             0.8888888888888888,
             "#fdca26"
            ],
            [
             1,
             "#f0f921"
            ]
           ],
           "sequentialminus": [
            [
             0,
             "#0d0887"
            ],
            [
             0.1111111111111111,
             "#46039f"
            ],
            [
             0.2222222222222222,
             "#7201a8"
            ],
            [
             0.3333333333333333,
             "#9c179e"
            ],
            [
             0.4444444444444444,
             "#bd3786"
            ],
            [
             0.5555555555555556,
             "#d8576b"
            ],
            [
             0.6666666666666666,
             "#ed7953"
            ],
            [
             0.7777777777777778,
             "#fb9f3a"
            ],
            [
             0.8888888888888888,
             "#fdca26"
            ],
            [
             1,
             "#f0f921"
            ]
           ]
          },
          "colorway": [
           "#636efa",
           "#EF553B",
           "#00cc96",
           "#ab63fa",
           "#FFA15A",
           "#19d3f3",
           "#FF6692",
           "#B6E880",
           "#FF97FF",
           "#FECB52"
          ],
          "font": {
           "color": "#2a3f5f"
          },
          "geo": {
           "bgcolor": "white",
           "lakecolor": "white",
           "landcolor": "#E5ECF6",
           "showlakes": true,
           "showland": true,
           "subunitcolor": "white"
          },
          "hoverlabel": {
           "align": "left"
          },
          "hovermode": "closest",
          "mapbox": {
           "style": "light"
          },
          "paper_bgcolor": "white",
          "plot_bgcolor": "#E5ECF6",
          "polar": {
           "angularaxis": {
            "gridcolor": "white",
            "linecolor": "white",
            "ticks": ""
           },
           "bgcolor": "#E5ECF6",
           "radialaxis": {
            "gridcolor": "white",
            "linecolor": "white",
            "ticks": ""
           }
          },
          "scene": {
           "xaxis": {
            "backgroundcolor": "#E5ECF6",
            "gridcolor": "white",
            "gridwidth": 2,
            "linecolor": "white",
            "showbackground": true,
            "ticks": "",
            "zerolinecolor": "white"
           },
           "yaxis": {
            "backgroundcolor": "#E5ECF6",
            "gridcolor": "white",
            "gridwidth": 2,
            "linecolor": "white",
            "showbackground": true,
            "ticks": "",
            "zerolinecolor": "white"
           },
           "zaxis": {
            "backgroundcolor": "#E5ECF6",
            "gridcolor": "white",
            "gridwidth": 2,
            "linecolor": "white",
            "showbackground": true,
            "ticks": "",
            "zerolinecolor": "white"
           }
          },
          "shapedefaults": {
           "line": {
            "color": "#2a3f5f"
           }
          },
          "ternary": {
           "aaxis": {
            "gridcolor": "white",
            "linecolor": "white",
            "ticks": ""
           },
           "baxis": {
            "gridcolor": "white",
            "linecolor": "white",
            "ticks": ""
           },
           "bgcolor": "#E5ECF6",
           "caxis": {
            "gridcolor": "white",
            "linecolor": "white",
            "ticks": ""
           }
          },
          "title": {
           "x": 0.05
          },
          "xaxis": {
           "automargin": true,
           "gridcolor": "white",
           "linecolor": "white",
           "ticks": "",
           "title": {
            "standoff": 15
           },
           "zerolinecolor": "white",
           "zerolinewidth": 2
          },
          "yaxis": {
           "automargin": true,
           "gridcolor": "white",
           "linecolor": "white",
           "ticks": "",
           "title": {
            "standoff": 15
           },
           "zerolinecolor": "white",
           "zerolinewidth": 2
          }
         }
        },
        "title": {
         "text": ""
        },
        "width": 600,
        "xaxis": {
         "anchor": "y",
         "autorange": true,
         "domain": [
          0,
          1
         ],
         "range": [
          2002,
          2021
         ],
         "tickangle": -45,
         "tickfont": {
          "size": 12
         },
         "tickmode": "linear",
         "title": {
          "text": ""
         },
         "type": "linear"
        },
        "yaxis": {
         "anchor": "x",
         "autorange": true,
         "domain": [
          0,
          1
         ],
         "range": [
          56.72222222222222,
          402.27777777777777
         ],
         "tickfont": {
          "size": 14
         },
         "title": {
          "font": {
           "size": 16
          },
          "text": ""
         },
         "type": "linear"
        }
       }
      },
      "image/png": "[encoded data removed]",
      "text/html": [
       "<div>                            <div id=\"ef0a967a-8306-48b7-8346-6fac760d26ea\" class=\"plotly-graph-div\" style=\"height:500px; width:600px;\"></div>            <script type=\"text/javascript\">                require([\"plotly\"], function(Plotly) {                    window.PLOTLYENV=window.PLOTLYENV || {};                                    if (document.getElementById(\"ef0a967a-8306-48b7-8346-6fac760d26ea\")) {                    Plotly.newPlot(                        \"ef0a967a-8306-48b7-8346-6fac760d26ea\",                        [{\"hovertemplate\":\"sched_year=%{x}<br>nr_routes=%{y}<extra></extra>\",\"legendgroup\":\"\",\"line\":{\"color\":\"#636efa\",\"dash\":\"solid\"},\"marker\":{\"symbol\":\"circle\"},\"mode\":\"lines\",\"name\":\"\",\"orientation\":\"v\",\"showlegend\":false,\"type\":\"scatter\",\"x\":[2002,2003,2004,2005,2006,2007,2008,2009,2010,2011,2012,2013,2014,2015,2016,2017,2018,2019,2020,2021],\"xaxis\":\"x\",\"y\":[115,130,110,74,89,101,75,77,240,312,165,314,286,307,256,250,365,373,385,292],\"yaxis\":\"y\"}],                        {\"autosize\":false,\"height\":500,\"legend\":{\"tracegroupgap\":0},\"margin\":{\"t\":60},\"template\":{\"data\":{\"bar\":[{\"error_x\":{\"color\":\"#2a3f5f\"},\"error_y\":{\"color\":\"#2a3f5f\"},\"marker\":{\"line\":{\"color\":\"#E5ECF6\",\"width\":0.5},\"pattern\":{\"fillmode\":\"overlay\",\"size\":10,\"solidity\":0.2}},\"type\":\"bar\"}],\"barpolar\":[{\"marker\":{\"line\":{\"color\":\"#E5ECF6\",\"width\":0.5},\"pattern\":{\"fillmode\":\"overlay\",\"size\":10,\"solidity\":0.2}},\"type\":\"barpolar\"}],\"carpet\":[{\"aaxis\":{\"endlinecolor\":\"#2a3f5f\",\"gridcolor\":\"white\",\"linecolor\":\"white\",\"minorgridcolor\":\"white\",\"startlinecolor\":\"#2a3f5f\"},\"baxis\":{\"endlinecolor\":\"#2a3f5f\",\"gridcolor\":\"white\",\"linecolor\":\"white\",\"minorgridcolor\":\"white\",\"startlinecolor\":\"#2a3f5f\"},\"type\":\"carpet\"}],\"choropleth\":[{\"colorbar\":{\"outlinewidth\":0,\"ticks\":\"\"},\"type\":\"choropleth\"}],\"contour\":[{\"colorbar\":{\"outlinewidth\":0,\"ticks\":\"\"},\"colorscale\":[[0.0,\"#0d0887\"],[0.1111111111111111,\"#46039f\"],[0.2222222222222222,\"#7201a8\"],[0.3333333333333333,\"#9c179e\"],[0.4444444444444444,\"#bd3786\"],[0.5555555555555556,\"#d8576b\"],[0.6666666666666666,\"#ed7953\"],[0.7777777777777778,\"#fb9f3a\"],[0.8888888888888888,\"#fdca26\"],[1.0,\"#f0f921\"]],\"type\":\"contour\"}],\"contourcarpet\":[{\"colorbar\":{\"outlinewidth\":0,\"ticks\":\"\"},\"type\":\"contourcarpet\"}],\"heatmap\":[{\"colorbar\":{\"outlinewidth\":0,\"ticks\":\"\"},\"colorscale\":[[0.0,\"#0d0887\"],[0.1111111111111111,\"#46039f\"],[0.2222222222222222,\"#7201a8\"],[0.3333333333333333,\"#9c179e\"],[0.4444444444444444,\"#bd3786\"],[0.5555555555555556,\"#d8576b\"],[0.6666666666666666,\"#ed7953\"],[0.7777777777777778,\"#fb9f3a\"],[0.8888888888888888,\"#fdca26\"],[1.0,\"#f0f921\"]],\"type\":\"heatmap\"}],\"heatmapgl\":[{\"colorbar\":{\"outlinewidth\":0,\"ticks\":\"\"},\"colorscale\":[[0.0,\"#0d0887\"],[0.1111111111111111,\"#46039f\"],[0.2222222222222222,\"#7201a8\"],[0.3333333333333333,\"#9c179e\"],[0.4444444444444444,\"#bd3786\"],[0.5555555555555556,\"#d8576b\"],[0.6666666666666666,\"#ed7953\"],[0.7777777777777778,\"#fb9f3a\"],[0.8888888888888888,\"#fdca26\"],[1.0,\"#f0f921\"]],\"type\":\"heatmapgl\"}],\"histogram\":[{\"marker\":{\"pattern\":{\"fillmode\":\"overlay\",\"size\":10,\"solidity\":0.2}},\"type\":\"histogram\"}],\"histogram2d\":[{\"colorbar\":{\"outlinewidth\":0,\"ticks\":\"\"},\"colorscale\":[[0.0,\"#0d0887\"],[0.1111111111111111,\"#46039f\"],[0.2222222222222222,\"#7201a8\"],[0.3333333333333333,\"#9c179e\"],[0.4444444444444444,\"#bd3786\"],[0.5555555555555556,\"#d8576b\"],[0.6666666666666666,\"#ed7953\"],[0.7777777777777778,\"#fb9f3a\"],[0.8888888888888888,\"#fdca26\"],[1.0,\"#f0f921\"]],\"type\":\"histogram2d\"}],\"histogram2dcontour\":[{\"colorbar\":{\"outlinewidth\":0,\"ticks\":\"\"},\"colorscale\":[[0.0,\"#0d0887\"],[0.1111111111111111,\"#46039f\"],[0.2222222222222222,\"#7201a8\"],[0.3333333333333333,\"#9c179e\"],[0.4444444444444444,\"#bd3786\"],[0.5555555555555556,\"#d8576b\"],[0.6666666666666666,\"#ed7953\"],[0.7777777777777778,\"#fb9f3a\"],[0.8888888888888888,\"#fdca26\"],[1.0,\"#f0f921\"]],\"type\":\"histogram2dcontour\"}],\"mesh3d\":[{\"colorbar\":{\"outlinewidth\":0,\"ticks\":\"\"},\"type\":\"mesh3d\"}],\"parcoords\":[{\"line\":{\"colorbar\":{\"outlinewidth\":0,\"ticks\":\"\"}},\"type\":\"parcoords\"}],\"pie\":[{\"automargin\":true,\"type\":\"pie\"}],\"scatter\":[{\"marker\":{\"colorbar\":{\"outlinewidth\":0,\"ticks\":\"\"}},\"type\":\"scatter\"}],\"scatter3d\":[{\"line\":{\"colorbar\":{\"outlinewidth\":0,\"ticks\":\"\"}},\"marker\":{\"colorbar\":{\"outlinewidth\":0,\"ticks\":\"\"}},\"type\":\"scatter3d\"}],\"scattercarpet\":[{\"marker\":{\"colorbar\":{\"outlinewidth\":0,\"ticks\":\"\"}},\"type\":\"scattercarpet\"}],\"scattergeo\":[{\"marker\":{\"colorbar\":{\"outlinewidth\":0,\"ticks\":\"\"}},\"type\":\"scattergeo\"}],\"scattergl\":[{\"marker\":{\"colorbar\":{\"outlinewidth\":0,\"ticks\":\"\"}},\"type\":\"scattergl\"}],\"scattermapbox\":[{\"marker\":{\"colorbar\":{\"outlinewidth\":0,\"ticks\":\"\"}},\"type\":\"scattermapbox\"}],\"scatterpolar\":[{\"marker\":{\"colorbar\":{\"outlinewidth\":0,\"ticks\":\"\"}},\"type\":\"scatterpolar\"}],\"scatterpolargl\":[{\"marker\":{\"colorbar\":{\"outlinewidth\":0,\"ticks\":\"\"}},\"type\":\"scatterpolargl\"}],\"scatterternary\":[{\"marker\":{\"colorbar\":{\"outlinewidth\":0,\"ticks\":\"\"}},\"type\":\"scatterternary\"}],\"surface\":[{\"colorbar\":{\"outlinewidth\":0,\"ticks\":\"\"},\"colorscale\":[[0.0,\"#0d0887\"],[0.1111111111111111,\"#46039f\"],[0.2222222222222222,\"#7201a8\"],[0.3333333333333333,\"#9c179e\"],[0.4444444444444444,\"#bd3786\"],[0.5555555555555556,\"#d8576b\"],[0.6666666666666666,\"#ed7953\"],[0.7777777777777778,\"#fb9f3a\"],[0.8888888888888888,\"#fdca26\"],[1.0,\"#f0f921\"]],\"type\":\"surface\"}],\"table\":[{\"cells\":{\"fill\":{\"color\":\"#EBF0F8\"},\"line\":{\"color\":\"white\"}},\"header\":{\"fill\":{\"color\":\"#C8D4E3\"},\"line\":{\"color\":\"white\"}},\"type\":\"table\"}]},\"layout\":{\"annotationdefaults\":{\"arrowcolor\":\"#2a3f5f\",\"arrowhead\":0,\"arrowwidth\":1},\"autotypenumbers\":\"strict\",\"coloraxis\":{\"colorbar\":{\"outlinewidth\":0,\"ticks\":\"\"}},\"colorscale\":{\"diverging\":[[0,\"#8e0152\"],[0.1,\"#c51b7d\"],[0.2,\"#de77ae\"],[0.3,\"#f1b6da\"],[0.4,\"#fde0ef\"],[0.5,\"#f7f7f7\"],[0.6,\"#e6f5d0\"],[0.7,\"#b8e186\"],[0.8,\"#7fbc41\"],[0.9,\"#4d9221\"],[1,\"#276419\"]],\"sequential\":[[0.0,\"#0d0887\"],[0.1111111111111111,\"#46039f\"],[0.2222222222222222,\"#7201a8\"],[0.3333333333333333,\"#9c179e\"],[0.4444444444444444,\"#bd3786\"],[0.5555555555555556,\"#d8576b\"],[0.6666666666666666,\"#ed7953\"],[0.7777777777777778,\"#fb9f3a\"],[0.8888888888888888,\"#fdca26\"],[1.0,\"#f0f921\"]],\"sequentialminus\":[[0.0,\"#0d0887\"],[0.1111111111111111,\"#46039f\"],[0.2222222222222222,\"#7201a8\"],[0.3333333333333333,\"#9c179e\"],[0.4444444444444444,\"#bd3786\"],[0.5555555555555556,\"#d8576b\"],[0.6666666666666666,\"#ed7953\"],[0.7777777777777778,\"#fb9f3a\"],[0.8888888888888888,\"#fdca26\"],[1.0,\"#f0f921\"]]},\"colorway\":[\"#636efa\",\"#EF553B\",\"#00cc96\",\"#ab63fa\",\"#FFA15A\",\"#19d3f3\",\"#FF6692\",\"#B6E880\",\"#FF97FF\",\"#FECB52\"],\"font\":{\"color\":\"#2a3f5f\"},\"geo\":{\"bgcolor\":\"white\",\"lakecolor\":\"white\",\"landcolor\":\"#E5ECF6\",\"showlakes\":true,\"showland\":true,\"subunitcolor\":\"white\"},\"hoverlabel\":{\"align\":\"left\"},\"hovermode\":\"closest\",\"mapbox\":{\"style\":\"light\"},\"paper_bgcolor\":\"white\",\"plot_bgcolor\":\"#E5ECF6\",\"polar\":{\"angularaxis\":{\"gridcolor\":\"white\",\"linecolor\":\"white\",\"ticks\":\"\"},\"bgcolor\":\"#E5ECF6\",\"radialaxis\":{\"gridcolor\":\"white\",\"linecolor\":\"white\",\"ticks\":\"\"}},\"scene\":{\"xaxis\":{\"backgroundcolor\":\"#E5ECF6\",\"gridcolor\":\"white\",\"gridwidth\":2,\"linecolor\":\"white\",\"showbackground\":true,\"ticks\":\"\",\"zerolinecolor\":\"white\"},\"yaxis\":{\"backgroundcolor\":\"#E5ECF6\",\"gridcolor\":\"white\",\"gridwidth\":2,\"linecolor\":\"white\",\"showbackground\":true,\"ticks\":\"\",\"zerolinecolor\":\"white\"},\"zaxis\":{\"backgroundcolor\":\"#E5ECF6\",\"gridcolor\":\"white\",\"gridwidth\":2,\"linecolor\":\"white\",\"showbackground\":true,\"ticks\":\"\",\"zerolinecolor\":\"white\"}},\"shapedefaults\":{\"line\":{\"color\":\"#2a3f5f\"}},\"ternary\":{\"aaxis\":{\"gridcolor\":\"white\",\"linecolor\":\"white\",\"ticks\":\"\"},\"baxis\":{\"gridcolor\":\"white\",\"linecolor\":\"white\",\"ticks\":\"\"},\"bgcolor\":\"#E5ECF6\",\"caxis\":{\"gridcolor\":\"white\",\"linecolor\":\"white\",\"ticks\":\"\"}},\"title\":{\"x\":0.05},\"xaxis\":{\"automargin\":true,\"gridcolor\":\"white\",\"linecolor\":\"white\",\"ticks\":\"\",\"title\":{\"standoff\":15},\"zerolinecolor\":\"white\",\"zerolinewidth\":2},\"yaxis\":{\"automargin\":true,\"gridcolor\":\"white\",\"linecolor\":\"white\",\"ticks\":\"\",\"title\":{\"standoff\":15},\"zerolinecolor\":\"white\",\"zerolinewidth\":2}}},\"title\":{\"text\":\"\"},\"width\":600,\"xaxis\":{\"anchor\":\"y\",\"domain\":[0.0,1.0],\"tickangle\":-45,\"tickfont\":{\"size\":12},\"tickmode\":\"linear\",\"title\":{\"text\":\"\"}},\"yaxis\":{\"anchor\":\"x\",\"domain\":[0.0,1.0],\"tickfont\":{\"size\":14},\"title\":{\"font\":{\"size\":16},\"text\":\"\"}}},                        {\"responsive\": true}                    ).then(function(){\n",
       "                            \n",
       "var gd = document.getElementById('ef0a967a-8306-48b7-8346-6fac760d26ea');\n",
       "var x = new MutationObserver(function (mutations, observer) {{\n",
       "        var display = window.getComputedStyle(gd).display;\n",
       "        if (!display || display === 'none') {{\n",
       "            console.log([gd, 'removed!']);\n",
       "            Plotly.purge(gd);\n",
       "            observer.disconnect();\n",
       "        }}\n",
       "}});\n",
       "\n",
       "// Listen for the removal of the full notebook cells\n",
       "var notebookContainer = gd.closest('#notebook-container');\n",
       "if (notebookContainer) {{\n",
       "    x.observe(notebookContainer, {childList: true});\n",
       "}}\n",
       "\n",
       "// Listen for the clearing of the current output cell\n",
       "var outputEl = gd.closest('.output');\n",
       "if (outputEl) {{\n",
       "    x.observe(outputEl, {childList: true});\n",
       "}}\n",
       "\n",
       "                        })                };                });            </script>        </div>"
      ]
     },
     "metadata": {},
     "output_type": "display_data"
    }
   ],
   "source": [
    "fig = px.line(test, x=\"sched_year\", y=\"nr_routes\")\n",
    "fig.update_layout(\n",
    "    title=\"\",\n",
    "    autosize=False,\n",
    "    width=600,\n",
    "    height=500,\n",
    "    xaxis=dict(title=\"\", tickmode=\"linear\", tickfont_size=12, tickangle=-45),\n",
    "    yaxis=dict(title=\"\", titlefont_size=16, tickfont_size=14),\n",
    ")\n",
    "# fig.write_html(\"./presentation/plots/bar_nr_airports.html\")\n",
    "fig.show()"
   ]
  },
  {
   "cell_type": "code",
   "execution_count": null,
   "id": "40703b41-e8b7-46b8-9a32-e3d8586e5773",
   "metadata": {},
   "outputs": [],
   "source": []
  }
 ],
 "metadata": {
  "kernelspec": {
   "display_name": "Python 3",
   "language": "python",
   "name": "python3"
  },
  "language_info": {
   "codemirror_mode": {
    "name": "ipython",
    "version": 3
   },
   "file_extension": ".py",
   "mimetype": "text/x-python",
   "name": "python",
   "nbconvert_exporter": "python",
   "pygments_lexer": "ipython3",
   "version": "3.8.8"
  }
 },
 "nbformat": 4,
 "nbformat_minor": 5
}
